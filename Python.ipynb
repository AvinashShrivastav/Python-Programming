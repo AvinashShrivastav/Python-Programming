{
  "cells": [
    {
      "cell_type": "markdown",
      "metadata": {
        "id": "view-in-github",
        "colab_type": "text"
      },
      "source": [
        "<a href=\"https://colab.research.google.com/github/AvinashShrivastav/Python-Programming/blob/main/Python.ipynb\" target=\"_parent\"><img src=\"https://colab.research.google.com/assets/colab-badge.svg\" alt=\"Open In Colab\"/></a>"
      ]
    },
    {
      "cell_type": "markdown",
      "metadata": {
        "id": "349ZYLXc2YFK"
      },
      "source": [
        "Write a program to read three numbers and find their sum and average\n"
      ]
    },
    {
      "cell_type": "code",
      "execution_count": null,
      "metadata": {
        "colab": {
          "base_uri": "https://localhost:8080/"
        },
        "id": "zOnmGQ0a2T4y",
        "outputId": "e433cd13-ba69-490d-c4b2-1c08a26945e7"
      },
      "outputs": [
        {
          "name": "stdout",
          "output_type": "stream",
          "text": [
            "--------------------\n",
            "Enter First Number : 12\n",
            "Enter Second Number : 21\n",
            "Enter Third Number : 22.9\n",
            "-------------------- \n",
            "You entered : \n",
            "First Number:  12 \n",
            "Second Number :  21 \n",
            "Third Number :  22.9\n",
            "The sum is  55.9 and the average is 18.63\n"
          ]
        }
      ],
      "source": [
        "#Program to read three numbers and find sum and average\n",
        "print('----'*5)\n",
        "num1 = eval(input('Enter First Number : '))\n",
        "num2 = eval(input('Enter Second Number : '))\n",
        "num3 = eval(input('Enter Third Number : '))\n",
        "sum = num1 + num2 + num3 #Finding sum of three numbers\n",
        "avg = sum/3 #Finding average of the three numbers\n",
        "print('----'*5,'\\nYou entered : \\nFirst Number: ',num1,'\\nSecond Number : ',num2,'\\nThird Number : ',num3)\n",
        "print('The sum is ',sum,'and the average is',round(avg,2))"
      ]
    },
    {
      "cell_type": "markdown",
      "metadata": {
        "id": "Q0UQpnUW2WmB"
      },
      "source": [
        "Write a program to read the coefficient of a quadratic equation and find its root. "
      ]
    },
    {
      "cell_type": "code",
      "execution_count": null,
      "metadata": {
        "colab": {
          "base_uri": "https://localhost:8080/"
        },
        "id": "EE3hgomJ25zG",
        "outputId": "7fe4d403-cfca-4f91-f2fa-f9ebddc97e82"
      },
      "outputs": [
        {
          "name": "stdout",
          "output_type": "stream",
          "text": [
            "-------------------- \n",
            "Please Enter the coefficient of the quadratic equation ax^2+bx+c = 0 where a,b,c are reals and a not equal to 0\n",
            "Enter coefficient of x^2 i.e(a) : 1\n",
            "Enter coefficient of x i.e(b) : 2\n",
            "Enter constant i.e(c) : 3\n",
            "-------------------- \n",
            "The Quadratic equation you entered is  1x^2+2x+3 = 0\n",
            "Roots are imaginary and distinct \n",
            "Roots : (-0.9999999999999999+1.4142135623730951j) (-1-1.4142135623730951j)\n"
          ]
        }
      ],
      "source": [
        "#Program to read the coefficient of a quadratic equation and find its root.\n",
        "print('----'*5,'\\nPlease Enter the coefficient of the quadratic equation ax^2+bx+c = 0 where a,b,c are reals and a not equal to 0')\n",
        "a = eval(input('Enter coefficient of x^2 i.e(a) : '))\n",
        "b = eval(input('Enter coefficient of x i.e(b) : '))\n",
        "c = eval(input('Enter constant i.e(c) : '))\n",
        "print('----'*5,'\\nThe Quadratic equation you entered is ',str(a)+'x^2'+'+'+str(b)+'x+'+str(c)+' = 0')\n",
        "d = (b*b - 4*a*c)\n",
        "root1= (-b + (d)**(0.5))/2*a\n",
        "root2= (-b - (d)**(0.5))/2*a\n",
        "if d>0:\n",
        "  print('Roots are real and distinct','\\nRoots :',root1,root2)\n",
        "if d<0:\n",
        "  print('Roots are imaginary and distinct','\\nRoots :',root1,root2)\n",
        "if d ==0:\n",
        "  print('Roots are real and equal','\\nRoots :',root1,root2)\n",
        "\n",
        "\n",
        "# if a!=0 : #Checking if roots are real or not\n",
        "#   root1 = (-b + d**(1/2))/2*a\n",
        "#   root2 = (-b - d**(1/2))/2*a\n",
        "\n",
        "  # print('The Roots are :',root1,',',root2)"
      ]
    },
    {
      "cell_type": "markdown",
      "metadata": {
        "id": "b7yLApuc5rWV"
      },
      "source": [
        "Write a ptogram to read 4 numbers and an expression and evaluate the value of the expression"
      ]
    },
    {
      "cell_type": "code",
      "execution_count": null,
      "metadata": {
        "colab": {
          "base_uri": "https://localhost:8080/"
        },
        "id": "5F8e1M1J6qxu",
        "outputId": "f19f3f0e-5971-45bd-e108-58f2c7102927"
      },
      "outputs": [
        {
          "name": "stdout",
          "output_type": "stream",
          "text": [
            "--------------------\n",
            "Enter First Number (a) : 12\n",
            "Enter Second Number (b) : 12\n",
            "Enter Third Number (c) : 12\n",
            "Enter Fourth Number (d) : 12\n",
            "Enter the expression to be calculated : a+b*c-d+a/d\n",
            "-------------------- \n",
            "You Entered :  a+b*c-d+a/d \n",
            "The value of the expression is 145.0\n"
          ]
        }
      ],
      "source": [
        "#Program to read 4 numbers and an expression evaluate it\n",
        "print('----'*5)\n",
        "a = eval(input('Enter First Number (a) : '))\n",
        "b = eval(input('Enter Second Number (b) : '))\n",
        "c = eval(input('Enter Third Number (c) : '))\n",
        "d = eval(input('Enter Fourth Number (d) : '))\n",
        "exp = input('Enter the expression to be calculated : ')\n",
        "print('----'*5,'\\nYou Entered : ',exp,'\\nThe value of the expression is',eval(exp))"
      ]
    },
    {
      "cell_type": "markdown",
      "metadata": {
        "id": "B32W9wBbdC9p"
      },
      "source": [
        "Write a program to read 5 numbers and add even numbers"
      ]
    },
    {
      "cell_type": "code",
      "execution_count": null,
      "metadata": {
        "colab": {
          "base_uri": "https://localhost:8080/"
        },
        "id": "XfptjbkZdgq7",
        "outputId": "52a6a8b0-1595-41b4-dc19-eda9d0bfb3bc"
      },
      "outputs": [
        {
          "name": "stdout",
          "output_type": "stream",
          "text": [
            "Enter First Number : 21\n",
            "Enter Second Number : 22\n",
            "Enter Third Number : 21\n",
            "Enter Fourth Number : 2\n",
            "Enter Fifth Number : 4\n",
            "-------------------- \n",
            "The sum of even numbers are 28\n"
          ]
        }
      ],
      "source": [
        "#Reading Five Numbers\n",
        "a = int(input(\"Enter First Number : \"))\n",
        "b = int(input(\"Enter Second Number : \"))\n",
        "c = int(input(\"Enter Third Number : \"))\n",
        "d = int(input(\"Enter Fourth Number : \"))\n",
        "e = int(input(\"Enter Fifth Number : \"))\n",
        "sum = 0\n",
        "if a%2 == 0:\n",
        "  sum += a # sum = sum + a \n",
        "if b%2 == 0:\n",
        "  sum += b\n",
        "if c%2 == 0:\n",
        "  sum += c\n",
        "if d%2 == 0:\n",
        "  sum += d\n",
        "if e%2 == 0:\n",
        "  sum += e\n",
        "print('----'*5, '\\nThe sum of even numbers are', sum)"
      ]
    },
    {
      "cell_type": "markdown",
      "metadata": {
        "id": "IhAR5ZB7dJb8"
      },
      "source": [
        "Write a program to read three numbers and print the maximum of them"
      ]
    },
    {
      "cell_type": "code",
      "execution_count": null,
      "metadata": {
        "colab": {
          "base_uri": "https://localhost:8080/"
        },
        "id": "QlefGXsrhRat",
        "outputId": "a79bc022-5ec7-4f51-a283-83c398263e4e"
      },
      "outputs": [
        {
          "name": "stdout",
          "output_type": "stream",
          "text": [
            "Enter First Number : 21\n",
            "Enter Second Number : 211\n",
            "Enter Third Number : 3\n",
            "----*----*----*----*----* \n",
            "The maximum of 21 211 and 3 is 211\n"
          ]
        }
      ],
      "source": [
        "num1 = int(input(\"Enter First Number : \"))\n",
        "num2 = int(input(\"Enter Second Number : \"))\n",
        "num3 = int(input(\"Enter Third Number : \"))\n",
        "if num1>num2 and num2>num3:\n",
        "  max = num1\n",
        "elif num2>num1 and num1>num3:\n",
        "  max = num2\n",
        "else :\n",
        "  max = num3\n",
        "print('----'*5,'\\nThe maximum of', num1 ,num2,'and',num3, 'is', max)\n"
      ]
    },
    {
      "cell_type": "markdown",
      "metadata": {
        "id": "Pi5dHbg0Z4QK"
      },
      "source": [
        "#Day2"
      ]
    },
    {
      "cell_type": "markdown",
      "metadata": {
        "id": "qk1R_TvsaK2q"
      },
      "source": [
        "Implementation of for loop"
      ]
    },
    {
      "cell_type": "markdown",
      "metadata": {
        "id": "40nxYfMmgq7c"
      },
      "source": [
        "WAP to read 10 numbers and find out the maximum and minimum of the number using loop"
      ]
    },
    {
      "cell_type": "code",
      "execution_count": null,
      "metadata": {
        "colab": {
          "base_uri": "https://localhost:8080/"
        },
        "id": "XNOtqp7mhX0h",
        "outputId": "522cae43-6ba0-4d88-905c-4bfd96627e49"
      },
      "outputs": [
        {
          "output_type": "stream",
          "name": "stdout",
          "text": [
            "Enter the number : 12\n",
            "Enter the number : 13\n",
            "Enter the number : 0\n",
            "Enter the number : -1\n",
            "Enter the number : 33\n",
            "Enter the number : 44\n",
            "Enter the number : 98\n",
            "Enter the number : 32\n",
            "Enter the number : 45\n",
            "Enter the number : 22\n",
            "The maximum is  98 and the minimum is  -1\n"
          ]
        }
      ],
      "source": [
        "#Reading the 10 Number \n",
        "max , min = -100000000000000 , 100000000000000000    \n",
        "#Declaring variables max and min and assigning them the values preassumeably --\n",
        "# the lowest and highest possible values that the user may enter\n",
        "for i in range(10):\n",
        "  num = int(input(\"Enter the number : \"))\n",
        "  if num >= max :\n",
        "    max = num \n",
        "  if num <= min :\n",
        "    min = num \n",
        "print('The maximum is ',max,'and the minimum is ',min)"
      ]
    },
    {
      "cell_type": "markdown",
      "metadata": {
        "id": "eaJH73ayg3nL"
      },
      "source": [
        "WAP to cumpute the sum and average of first n odd number"
      ]
    },
    {
      "cell_type": "code",
      "execution_count": null,
      "metadata": {
        "colab": {
          "base_uri": "https://localhost:8080/"
        },
        "id": "xl7T2SNyI-06",
        "outputId": "f9132888-a8a5-4b50-fb4a-827982e0a964"
      },
      "outputs": [
        {
          "name": "stdout",
          "output_type": "stream",
          "text": [
            "Enter the number n : 5\n",
            "The sum is  25 and the average is  5.0\n"
          ]
        }
      ],
      "source": [
        "#Reading the value n \n",
        "n = int(input(\"Enter the number n : \"))\n",
        "sum = 0\n",
        "for i in range(1, 2*n+1,2): \n",
        "  sum += i\n",
        "avg = sum/n\n",
        "print('The sum is ', sum, \"and the average is \", avg)"
      ]
    },
    {
      "cell_type": "markdown",
      "metadata": {
        "id": "MsiurmYGg-4w"
      },
      "source": [
        "WAP to read n and compute and print the value of all factorial of the each term in differnt line."
      ]
    },
    {
      "cell_type": "code",
      "execution_count": null,
      "metadata": {
        "colab": {
          "base_uri": "https://localhost:8080/"
        },
        "id": "Qs-64gF2Z7YQ",
        "outputId": "63acdf46-3282-455a-c92f-48d73431178a"
      },
      "outputs": [
        {
          "name": "stdout",
          "output_type": "stream",
          "text": [
            "Enter the number n : 5\n",
            "5!= 120\n",
            "4!= 24\n",
            "3!= 6\n",
            "2!= 2\n",
            "1!= 1\n"
          ]
        }
      ],
      "source": [
        "#Reading the value n \n",
        "n = int(input(\"Enter the number n : \"))\n",
        "if n ==0:\n",
        "  print('0!=1')\n",
        "else:\n",
        "  while n>=1:\n",
        "    factorial=1\n",
        "    for i in range(1,n+1):\n",
        "      factorial = factorial*i\n",
        "    print(str(n)+'!=',factorial)\n",
        "    n=n-1"
      ]
    },
    {
      "cell_type": "markdown",
      "source": [
        "Do the following program using for loop\n",
        "\n",
        "\n",
        "```\n",
        "sum = 0\n",
        "i = 0\n",
        "while i < 10:\n",
        "  sum = sum + i \n",
        "  i = i + 1 \n",
        "print(\"sum is\", sum)\n",
        "```\n",
        "\n"
      ],
      "metadata": {
        "id": "ObPMxpYVMJ27"
      }
    },
    {
      "cell_type": "code",
      "source": [
        "sum = 0\n",
        "for i in range(10):\n",
        "  sum += i\n",
        "print('sum is',sum)"
      ],
      "metadata": {
        "colab": {
          "base_uri": "https://localhost:8080/"
        },
        "id": "cqcoolNsM1DJ",
        "outputId": "c05aa1f6-220b-49ee-836a-cebeb73551b1"
      },
      "execution_count": null,
      "outputs": [
        {
          "output_type": "stream",
          "name": "stdout",
          "text": [
            "sum is 45\n"
          ]
        }
      ]
    },
    {
      "cell_type": "markdown",
      "source": [
        "Generate a table listing tables of number from 1 to 9 in each column"
      ],
      "metadata": {
        "id": "bTOXywsNZHPH"
      }
    },
    {
      "cell_type": "code",
      "source": [
        "for j in range(0,10): #Printing Column Names \n",
        "  print(j,'| ', end = '')\n",
        "print()\n",
        "for i in range(1,10):\n",
        "  print(i,'| ', end = '') #Printing Row Indices\n",
        "  for j in range(1,10):\n",
        "    num = i*j\n",
        "    if len(str(num))==1:  #Just for making output look somewhat nicer!!\n",
        "      num = str(num)+' '  # Adding an extra space to single digit numbers\n",
        "    print(num,' ', end = '')\n",
        "  print()"
      ],
      "metadata": {
        "colab": {
          "base_uri": "https://localhost:8080/"
        },
        "id": "KW3ij26qaMSm",
        "outputId": "74bf087b-54a1-44b5-fa79-8f9469e04741"
      },
      "execution_count": null,
      "outputs": [
        {
          "output_type": "stream",
          "name": "stdout",
          "text": [
            "0 | 1 | 2 | 3 | 4 | 5 | 6 | 7 | 8 | 9 | \n",
            "1 | 1   2   3   4   5   6   7   8   9   \n",
            "2 | 2   4   6   8   10  12  14  16  18  \n",
            "3 | 3   6   9   12  15  18  21  24  27  \n",
            "4 | 4   8   12  16  20  24  28  32  36  \n",
            "5 | 5   10  15  20  25  30  35  40  45  \n",
            "6 | 6   12  18  24  30  36  42  48  54  \n",
            "7 | 7   14  21  28  35  42  49  56  63  \n",
            "8 | 8   16  24  32  40  48  56  64  72  \n",
            "9 | 9   18  27  36  45  54  63  72  81  \n"
          ]
        }
      ]
    },
    {
      "cell_type": "markdown",
      "source": [
        "Generate right-handed half star"
      ],
      "metadata": {
        "id": "pQmnQK4EZuF5"
      }
    },
    {
      "cell_type": "code",
      "source": [
        "for i in range(1,6):\n",
        "  print('* '*i)"
      ],
      "metadata": {
        "colab": {
          "base_uri": "https://localhost:8080/"
        },
        "id": "TlZW3RwqZzOZ",
        "outputId": "bac46a0b-c326-4444-8b00-d87ad6a66e87"
      },
      "execution_count": null,
      "outputs": [
        {
          "output_type": "stream",
          "name": "stdout",
          "text": [
            "* \n",
            "* * \n",
            "* * * \n",
            "* * * * \n",
            "* * * * * \n"
          ]
        }
      ]
    },
    {
      "cell_type": "markdown",
      "source": [
        "Generate left handed half star"
      ],
      "metadata": {
        "id": "P3pHNV9Zccgj"
      }
    },
    {
      "cell_type": "code",
      "source": [
        "for i in range(5,-1,-1):\n",
        "  print('* '*i)"
      ],
      "metadata": {
        "colab": {
          "base_uri": "https://localhost:8080/"
        },
        "id": "18EhG9xVchpy",
        "outputId": "4ae91d56-1f93-4ae8-abd2-ac6953440858"
      },
      "execution_count": null,
      "outputs": [
        {
          "output_type": "stream",
          "name": "stdout",
          "text": [
            "* * * * * \n",
            "* * * * \n",
            "* * * \n",
            "* * \n",
            "* \n",
            "\n"
          ]
        }
      ]
    },
    {
      "cell_type": "markdown",
      "source": [
        "Generate half diamond"
      ],
      "metadata": {
        "id": "PD8RmZAqc5pp"
      }
    },
    {
      "cell_type": "code",
      "source": [
        "for i in range(1,6):\n",
        "  print('* '*i)\n",
        "for i in range(4,-1,-1):\n",
        "  print('* '*i)"
      ],
      "metadata": {
        "colab": {
          "base_uri": "https://localhost:8080/"
        },
        "id": "wNAN2BP5c8YJ",
        "outputId": "38103436-d008-4163-a335-f9eb88ff4c8e"
      },
      "execution_count": null,
      "outputs": [
        {
          "output_type": "stream",
          "name": "stdout",
          "text": [
            "* \n",
            "* * \n",
            "* * * \n",
            "* * * * \n",
            "* * * * * \n",
            "* * * * \n",
            "* * * \n",
            "* * \n",
            "* \n",
            "\n"
          ]
        }
      ]
    },
    {
      "cell_type": "markdown",
      "source": [
        "Do the above program in a single loop"
      ],
      "metadata": {
        "id": "QhwZm-hafvPK"
      }
    },
    {
      "cell_type": "code",
      "source": [
        "n = 10 \n",
        "for i in range(1,n+1):\n",
        "  if i <= n//2:\n",
        "    print(\"* \"*i+\" \"*(n-i))\n",
        "  else:\n",
        "    print(\"* \"*(n-i)+\" \"*(i))"
      ],
      "metadata": {
        "colab": {
          "base_uri": "https://localhost:8080/"
        },
        "id": "UDE5mrkie6rp",
        "outputId": "0170f97a-5321-41c0-d099-2e8e7d6d11d2"
      },
      "execution_count": null,
      "outputs": [
        {
          "output_type": "stream",
          "name": "stdout",
          "text": [
            "*          \n",
            "* *         \n",
            "* * *        \n",
            "* * * *       \n",
            "* * * * *      \n",
            "* * * *       \n",
            "* * *        \n",
            "* *         \n",
            "*          \n",
            "          \n"
          ]
        }
      ]
    },
    {
      "cell_type": "markdown",
      "source": [
        "Flip the above diamond"
      ],
      "metadata": {
        "id": "NK-Fq-Adf1st"
      }
    },
    {
      "cell_type": "code",
      "source": [
        "n = 10\n",
        "for i in range(1,n+1):\n",
        "  if i <= n//2:\n",
        "    print(\"  \"*(n-i)+\" *\"*(i))\n",
        "  else:\n",
        "    print(\"  \"*i+\" *\"*(n-i))"
      ],
      "metadata": {
        "colab": {
          "base_uri": "https://localhost:8080/"
        },
        "id": "bsvVgE-Qf541",
        "outputId": "5d7414d1-e8dc-4db5-fc85-508f8bdf658f"
      },
      "execution_count": null,
      "outputs": [
        {
          "output_type": "stream",
          "name": "stdout",
          "text": [
            "                   *\n",
            "                 * *\n",
            "               * * *\n",
            "             * * * *\n",
            "           * * * * *\n",
            "             * * * *\n",
            "               * * *\n",
            "                 * *\n",
            "                   *\n",
            "                    \n"
          ]
        }
      ]
    },
    {
      "cell_type": "markdown",
      "source": [
        "Generate a diamond"
      ],
      "metadata": {
        "id": "-yPZZ7DkdRQf"
      }
    },
    {
      "cell_type": "code",
      "source": [
        "n = 5\n",
        "for i in range(4,-1,-1):\n",
        "  print(' '*i+'* '*(n-i))\n",
        "for i in range(4,-1,-1):\n",
        "  print(' '*(n-i)+'* '*(i))"
      ],
      "metadata": {
        "colab": {
          "base_uri": "https://localhost:8080/"
        },
        "id": "mif5vy0ydUCw",
        "outputId": "7b17802c-8b49-42cf-d75e-b0ac6c3cf63c"
      },
      "execution_count": null,
      "outputs": [
        {
          "output_type": "stream",
          "name": "stdout",
          "text": [
            "    * \n",
            "   * * \n",
            "  * * * \n",
            " * * * * \n",
            "* * * * * \n",
            " * * * * \n",
            "  * * * \n",
            "   * * \n",
            "    * \n",
            "     \n"
          ]
        }
      ]
    },
    {
      "cell_type": "markdown",
      "source": [
        "Q.4.12\n",
        "Suppose x = 2 and y = 4. Show the output, if any, of the following code. What is\n",
        "the output if x = 3 and y = 2? What is the output if x = 3 and y = 3? (Hint: Indent\n",
        "the statement correctly first.)\n",
        "\n",
        "\n",
        "```\n",
        "if x > 2:\n",
        "  if y > 2:\n",
        "    z = x + y\n",
        "    print(\"z is\", z)\n",
        "else:\n",
        "  print(\"x is\", x)\n",
        "```"
      ],
      "metadata": {
        "id": "Y0lNvQq1_XxD"
      }
    },
    {
      "cell_type": "code",
      "source": [
        "x = 2\n",
        "y = 4\n",
        "if x > 2: #--> 2 !> 2 => False --> Control moved to line 8\n",
        "  if y > 2:\n",
        "    z = x + y \n",
        "    print(\"z is\", z)\n",
        "else:\n",
        "  print(\"x is\", x) # x is 2 "
      ],
      "metadata": {
        "colab": {
          "base_uri": "https://localhost:8080/"
        },
        "id": "Wx_78Psr_e29",
        "outputId": "710d6a26-ecf4-4b33-f359-f30edd021b55"
      },
      "execution_count": null,
      "outputs": [
        {
          "output_type": "stream",
          "name": "stdout",
          "text": [
            "x is 2\n"
          ]
        }
      ]
    },
    {
      "cell_type": "code",
      "source": [
        "x = 3\n",
        "y = 4\n",
        "if x > 2: #---> 3 > 2 => True --> Control moved to line 5\n",
        "  if y > 2: # 4 > 2 => True --> line 6\n",
        "    z = x + y # z = 3 + 4 = 7\n",
        "    print(\"z is\", z) # z is 7\n",
        "else: # Not executed\n",
        "  print(\"x is\", x) "
      ],
      "metadata": {
        "colab": {
          "base_uri": "https://localhost:8080/"
        },
        "id": "SOmR-Xg8BjYW",
        "outputId": "18ee9f17-75ff-455d-d19a-40b9f0e954a7"
      },
      "execution_count": null,
      "outputs": [
        {
          "output_type": "stream",
          "name": "stdout",
          "text": [
            "z is 7\n"
          ]
        }
      ]
    },
    {
      "cell_type": "code",
      "source": [
        "x = 3\n",
        "y = 3\n",
        "if x > 2: #---> 3 > 2 => True --> Control moved to line 5\n",
        "  if y > 2: # 3 > 2 => True --> line 6\n",
        "    z = x + y # z = 3 + 3 = 6\n",
        "    print(\"z is\", z) # z is 6\n",
        "else: # Not executed\n",
        "  print(\"x is\", x) "
      ],
      "metadata": {
        "colab": {
          "base_uri": "https://localhost:8080/"
        },
        "id": "h_49x58ND_-D",
        "outputId": "82b3907a-9fac-4375-8164-b5fc4ed1a6b5"
      },
      "execution_count": null,
      "outputs": [
        {
          "output_type": "stream",
          "name": "stdout",
          "text": [
            "z is 6\n"
          ]
        }
      ]
    },
    {
      "cell_type": "markdown",
      "source": [
        "Q.4.13 What is wrong in the following code?"
      ],
      "metadata": {
        "id": "plU62lLjw7eg"
      }
    },
    {
      "cell_type": "markdown",
      "source": [
        "\n",
        "\n",
        "```\n",
        "if score >= 60.0:\n",
        "  grade = 'D'\n",
        "elif score >= 70.0:\n",
        "  grade = 'C'\n",
        "elif score >= 80.0:\n",
        "  grade = 'B'\n",
        "elif score >= 90.0:\n",
        "  grade = 'A'\n",
        "else:\n",
        "  grade = 'F'\n",
        "```"
      ],
      "metadata": {
        "id": "bmBqNheJxRZ2"
      }
    },
    {
      "cell_type": "markdown",
      "source": [
        "There is logical flaw in the code. There isn't a proper criteria defined for assigning the grades. A marks greater than 90 is greater than 80, 70 and so on. The sequence of code matters in these types of code. Alternatively we may make this efficient by defining the criteria more explicitely.\n",
        "\n",
        "Code 1 : \n",
        "\n",
        "\n",
        "```\n",
        "if score >= 90.0:\n",
        "  grade = 'A'\n",
        "elif score >= 80.0:\n",
        "  grade = 'B'\n",
        "elif score >= 70.0:\n",
        "  grade = 'C'\n",
        "if score >= 60.0:\n",
        "  grade = 'D'\n",
        "else:\n",
        "  grade = 'F'\n",
        "```\n",
        "Code 2:\n",
        "\n",
        "\n",
        "```\n",
        "if score >= 60.0 and score < 70:\n",
        "  grade = 'D'\n",
        "elif score >= 70.0 and score < 80:\n",
        "  grade = 'C'\n",
        "elif score >= 80.0 and score < 90:\n",
        "  grade = 'B'\n",
        "elif score >= 90.0 and score <= 100:\n",
        "  grade = 'A'\n",
        "else:\n",
        "  grade = 'F'\n",
        "```\n",
        "\n",
        "\n"
      ],
      "metadata": {
        "id": "01snpLNKyMi8"
      }
    },
    {
      "cell_type": "markdown",
      "source": [
        "Listing 4.6\n",
        "Write a program that prompts the user to enter a weight in pounds and height in inches and\n",
        "then displays the BMI. Note that one pound is 0.45359237 kilograms and one inch is\n",
        "0.0254 meters."
      ],
      "metadata": {
        "id": "MUeMYwCEJLil"
      }
    },
    {
      "cell_type": "code",
      "source": [
        "# Listing 4.6\n",
        "print('-'*6+\"BMI CAlCULATOR\"+'-'*6)\n",
        "weight = eval(input(\"Enter weight in pound : \"))\n",
        "height = eval(input(\"Enter height in inches : \"))\n",
        "#Constants:\n",
        "poundInKg= 0.45359237\n",
        "inchInMeters = 0.0254\n",
        "#Converting weight and height in kg and meters respt.\n",
        "weightInKg = weight*poundInKg\n",
        "heightInMeters = height*inchInMeters\n",
        "#Calculating BMI :\n",
        "bmi = weightInKg/(heightInMeters**2)\n",
        "print('-'*24)\n",
        "print(\"BMI is\", round(bmi,2))\n",
        "text = \"You are\"\n",
        "if bmi < 18.5:\n",
        "  print(text,\"Underweight\")\n",
        "elif bmi < 25:\n",
        "  print(text,\"Normal\")\n",
        "elif bmi < 30:\n",
        "  print(text,\"Overweight\")\n",
        "else:\n",
        "  print(text,\"Obese\")"
      ],
      "metadata": {
        "id": "B32gVKzDx-CW",
        "colab": {
          "base_uri": "https://localhost:8080/"
        },
        "outputId": "16431ce2-a962-465a-d1fd-a6bf9989e666"
      },
      "execution_count": null,
      "outputs": [
        {
          "output_type": "stream",
          "name": "stdout",
          "text": [
            "------BMI CAlCULATOR------\n",
            "Enter weight in pound : 54\n",
            "Enter height in inches : 46\n",
            "------------------------\n",
            "BMI is 17.94\n",
            "You are Underweight\n"
          ]
        }
      ]
    },
    {
      "cell_type": "markdown",
      "source": [
        "Listing 4.7 \n",
        "You are to write a program to compute personal income tax. Your program should prompt\n",
        "the user to enter the filing status and taxable income and then compute the tax. Enter 0 for\n",
        "single filers, 1 for married filing jointly, 2 for married filing separately, and 3 for head of\n",
        "household.\n",
        "Your program computes the tax for the taxable income based on the filing status. The filing\n",
        "status can be determined using if statements outlined as follows:\n",
        "\n",
        "\n",
        "```\n",
        "if status == 0:\n",
        "# Compute tax for single filers\n",
        "elif status == 1:\n",
        "# Compute tax for married filing jointly\n",
        "elif status == 2:\n",
        "# Compute tax for married filing separately\n",
        "elif status == 3:\n",
        "# Compute tax for head of household\n",
        "else:\n",
        "# Display wrong status\n",
        "```\n",
        "For each filing status there are six tax rates. Each rate is applied to a certain amount of\n",
        "taxable income. For example, of a taxable income of $400,000 for single filers, $8,350 is\n",
        "taxed at 10%, (33,950 – 8,350) at 15%, (82,250 – 33,950) at 25%, (171,550 – 82,250) at 28%,\n",
        "(372,950 – 171,550) at 33%, and (400,000 – 372,950) at 35%.\n",
        "Listing 4.7 gives the solution to compute taxes for single filers.\n"
      ],
      "metadata": {
        "id": "kQstG-NvMxZK"
      }
    },
    {
      "cell_type": "markdown",
      "source": [],
      "metadata": {
        "id": "EnHvmKi7MtCG"
      }
    },
    {
      "cell_type": "code",
      "source": [
        "a = 5\n",
        "def fact(a):\n",
        "  if a == 0:\n",
        "    return 1\n",
        "  else:\n",
        "    return a*fact(a-1)\n",
        "fact(5)"
      ],
      "metadata": {
        "id": "wUwZY03wMClC",
        "colab": {
          "base_uri": "https://localhost:8080/"
        },
        "outputId": "d5b8c21b-cac6-4189-dd98-2c344c8bf596"
      },
      "execution_count": null,
      "outputs": [
        {
          "output_type": "execute_result",
          "data": {
            "text/plain": [
              "120"
            ]
          },
          "metadata": {},
          "execution_count": 19
        }
      ]
    },
    {
      "cell_type": "code",
      "source": [
        "def sum(a):\n",
        "  if a ==1:\n",
        "    return 1\n",
        "  else:\n",
        "    return a+sum(a-1)\n",
        "sum(3)"
      ],
      "metadata": {
        "colab": {
          "base_uri": "https://localhost:8080/"
        },
        "id": "tzKn0JVrP4ak",
        "outputId": "2448ca70-84ae-450c-8632-ffe700c597ae"
      },
      "execution_count": null,
      "outputs": [
        {
          "output_type": "execute_result",
          "data": {
            "text/plain": [
              "6"
            ]
          },
          "metadata": {},
          "execution_count": 21
        }
      ]
    },
    {
      "cell_type": "code",
      "source": [
        "def sumlist(lst):\n",
        "  if lst == []:\n",
        "    return 0\n",
        "  else :\n",
        "    return lst[0] + sumlist(lst[1:])\n",
        "sumlist([1,2,3,5,5,6,4])\n"
      ],
      "metadata": {
        "colab": {
          "base_uri": "https://localhost:8080/"
        },
        "id": "L2fVU0z1cxUH",
        "outputId": "0df62a21-27b2-4639-8f91-9e2214305d73"
      },
      "execution_count": null,
      "outputs": [
        {
          "output_type": "execute_result",
          "data": {
            "text/plain": [
              "26"
            ]
          },
          "metadata": {},
          "execution_count": 38
        }
      ]
    },
    {
      "cell_type": "code",
      "source": [
        "def sumlist(lst):\n",
        "  if lst == []:\n",
        "    return 0\n",
        "  else :\n",
        "    return lst[-1] + sumlist(lst[:len(lst)-1])\n",
        "sumlist([1,2,3,5,5,6,4])\n"
      ],
      "metadata": {
        "colab": {
          "base_uri": "https://localhost:8080/"
        },
        "outputId": "d36a5150-7e6d-49c8-8715-c05bf4c4dce8",
        "id": "e0mAufZshj3Z"
      },
      "execution_count": null,
      "outputs": [
        {
          "output_type": "execute_result",
          "data": {
            "text/plain": [
              "26"
            ]
          },
          "metadata": {},
          "execution_count": 39
        }
      ]
    },
    {
      "cell_type": "code",
      "source": [
        "def sort(lst):\n",
        "  if lst == []:\n",
        "    return \n",
        "  else:\n",
        "    return lst[0]<sort(lst[1:])\n",
        "sort([1,2,22,3,1,0])\n"
      ],
      "metadata": {
        "colab": {
          "base_uri": "https://localhost:8080/",
          "height": 328
        },
        "id": "fJDGWDVqh-gE",
        "outputId": "b0cde96c-5a23-45ee-e2c5-a44b0fc1d746"
      },
      "execution_count": null,
      "outputs": [
        {
          "output_type": "error",
          "ename": "TypeError",
          "evalue": "ignored",
          "traceback": [
            "\u001b[0;31m---------------------------------------------------------------------------\u001b[0m",
            "\u001b[0;31mTypeError\u001b[0m                                 Traceback (most recent call last)",
            "\u001b[0;32m<ipython-input-42-b9c5108721f5>\u001b[0m in \u001b[0;36m<module>\u001b[0;34m\u001b[0m\n\u001b[1;32m      4\u001b[0m   \u001b[0;32melse\u001b[0m\u001b[0;34m:\u001b[0m\u001b[0;34m\u001b[0m\u001b[0;34m\u001b[0m\u001b[0m\n\u001b[1;32m      5\u001b[0m     \u001b[0;32mreturn\u001b[0m \u001b[0mlst\u001b[0m\u001b[0;34m[\u001b[0m\u001b[0;36m0\u001b[0m\u001b[0;34m]\u001b[0m\u001b[0;34m<\u001b[0m\u001b[0msort\u001b[0m\u001b[0;34m(\u001b[0m\u001b[0mlst\u001b[0m\u001b[0;34m[\u001b[0m\u001b[0;36m1\u001b[0m\u001b[0;34m:\u001b[0m\u001b[0;34m]\u001b[0m\u001b[0;34m)\u001b[0m\u001b[0;34m\u001b[0m\u001b[0;34m\u001b[0m\u001b[0m\n\u001b[0;32m----> 6\u001b[0;31m \u001b[0msort\u001b[0m\u001b[0;34m(\u001b[0m\u001b[0;34m[\u001b[0m\u001b[0;36m1\u001b[0m\u001b[0;34m,\u001b[0m\u001b[0;36m2\u001b[0m\u001b[0;34m,\u001b[0m\u001b[0;36m22\u001b[0m\u001b[0;34m,\u001b[0m\u001b[0;36m3\u001b[0m\u001b[0;34m,\u001b[0m\u001b[0;36m1\u001b[0m\u001b[0;34m,\u001b[0m\u001b[0;36m0\u001b[0m\u001b[0;34m]\u001b[0m\u001b[0;34m)\u001b[0m\u001b[0;34m\u001b[0m\u001b[0;34m\u001b[0m\u001b[0m\n\u001b[0m",
            "\u001b[0;32m<ipython-input-42-b9c5108721f5>\u001b[0m in \u001b[0;36msort\u001b[0;34m(lst)\u001b[0m\n\u001b[1;32m      3\u001b[0m     \u001b[0;32mreturn\u001b[0m\u001b[0;34m\u001b[0m\u001b[0;34m\u001b[0m\u001b[0m\n\u001b[1;32m      4\u001b[0m   \u001b[0;32melse\u001b[0m\u001b[0;34m:\u001b[0m\u001b[0;34m\u001b[0m\u001b[0;34m\u001b[0m\u001b[0m\n\u001b[0;32m----> 5\u001b[0;31m     \u001b[0;32mreturn\u001b[0m \u001b[0mlst\u001b[0m\u001b[0;34m[\u001b[0m\u001b[0;36m0\u001b[0m\u001b[0;34m]\u001b[0m\u001b[0;34m<\u001b[0m\u001b[0msort\u001b[0m\u001b[0;34m(\u001b[0m\u001b[0mlst\u001b[0m\u001b[0;34m[\u001b[0m\u001b[0;36m1\u001b[0m\u001b[0;34m:\u001b[0m\u001b[0;34m]\u001b[0m\u001b[0;34m)\u001b[0m\u001b[0;34m\u001b[0m\u001b[0;34m\u001b[0m\u001b[0m\n\u001b[0m\u001b[1;32m      6\u001b[0m \u001b[0msort\u001b[0m\u001b[0;34m(\u001b[0m\u001b[0;34m[\u001b[0m\u001b[0;36m1\u001b[0m\u001b[0;34m,\u001b[0m\u001b[0;36m2\u001b[0m\u001b[0;34m,\u001b[0m\u001b[0;36m22\u001b[0m\u001b[0;34m,\u001b[0m\u001b[0;36m3\u001b[0m\u001b[0;34m,\u001b[0m\u001b[0;36m1\u001b[0m\u001b[0;34m,\u001b[0m\u001b[0;36m0\u001b[0m\u001b[0;34m]\u001b[0m\u001b[0;34m)\u001b[0m\u001b[0;34m\u001b[0m\u001b[0;34m\u001b[0m\u001b[0m\n",
            "\u001b[0;32m<ipython-input-42-b9c5108721f5>\u001b[0m in \u001b[0;36msort\u001b[0;34m(lst)\u001b[0m\n\u001b[1;32m      3\u001b[0m     \u001b[0;32mreturn\u001b[0m\u001b[0;34m\u001b[0m\u001b[0;34m\u001b[0m\u001b[0m\n\u001b[1;32m      4\u001b[0m   \u001b[0;32melse\u001b[0m\u001b[0;34m:\u001b[0m\u001b[0;34m\u001b[0m\u001b[0;34m\u001b[0m\u001b[0m\n\u001b[0;32m----> 5\u001b[0;31m     \u001b[0;32mreturn\u001b[0m \u001b[0mlst\u001b[0m\u001b[0;34m[\u001b[0m\u001b[0;36m0\u001b[0m\u001b[0;34m]\u001b[0m\u001b[0;34m<\u001b[0m\u001b[0msort\u001b[0m\u001b[0;34m(\u001b[0m\u001b[0mlst\u001b[0m\u001b[0;34m[\u001b[0m\u001b[0;36m1\u001b[0m\u001b[0;34m:\u001b[0m\u001b[0;34m]\u001b[0m\u001b[0;34m)\u001b[0m\u001b[0;34m\u001b[0m\u001b[0;34m\u001b[0m\u001b[0m\n\u001b[0m\u001b[1;32m      6\u001b[0m \u001b[0msort\u001b[0m\u001b[0;34m(\u001b[0m\u001b[0;34m[\u001b[0m\u001b[0;36m1\u001b[0m\u001b[0;34m,\u001b[0m\u001b[0;36m2\u001b[0m\u001b[0;34m,\u001b[0m\u001b[0;36m22\u001b[0m\u001b[0;34m,\u001b[0m\u001b[0;36m3\u001b[0m\u001b[0;34m,\u001b[0m\u001b[0;36m1\u001b[0m\u001b[0;34m,\u001b[0m\u001b[0;36m0\u001b[0m\u001b[0;34m]\u001b[0m\u001b[0;34m)\u001b[0m\u001b[0;34m\u001b[0m\u001b[0;34m\u001b[0m\u001b[0m\n",
            "\u001b[0;32m<ipython-input-42-b9c5108721f5>\u001b[0m in \u001b[0;36msort\u001b[0;34m(lst)\u001b[0m\n\u001b[1;32m      3\u001b[0m     \u001b[0;32mreturn\u001b[0m\u001b[0;34m\u001b[0m\u001b[0;34m\u001b[0m\u001b[0m\n\u001b[1;32m      4\u001b[0m   \u001b[0;32melse\u001b[0m\u001b[0;34m:\u001b[0m\u001b[0;34m\u001b[0m\u001b[0;34m\u001b[0m\u001b[0m\n\u001b[0;32m----> 5\u001b[0;31m     \u001b[0;32mreturn\u001b[0m \u001b[0mlst\u001b[0m\u001b[0;34m[\u001b[0m\u001b[0;36m0\u001b[0m\u001b[0;34m]\u001b[0m\u001b[0;34m<\u001b[0m\u001b[0msort\u001b[0m\u001b[0;34m(\u001b[0m\u001b[0mlst\u001b[0m\u001b[0;34m[\u001b[0m\u001b[0;36m1\u001b[0m\u001b[0;34m:\u001b[0m\u001b[0;34m]\u001b[0m\u001b[0;34m)\u001b[0m\u001b[0;34m\u001b[0m\u001b[0;34m\u001b[0m\u001b[0m\n\u001b[0m\u001b[1;32m      6\u001b[0m \u001b[0msort\u001b[0m\u001b[0;34m(\u001b[0m\u001b[0;34m[\u001b[0m\u001b[0;36m1\u001b[0m\u001b[0;34m,\u001b[0m\u001b[0;36m2\u001b[0m\u001b[0;34m,\u001b[0m\u001b[0;36m22\u001b[0m\u001b[0;34m,\u001b[0m\u001b[0;36m3\u001b[0m\u001b[0;34m,\u001b[0m\u001b[0;36m1\u001b[0m\u001b[0;34m,\u001b[0m\u001b[0;36m0\u001b[0m\u001b[0;34m]\u001b[0m\u001b[0;34m)\u001b[0m\u001b[0;34m\u001b[0m\u001b[0;34m\u001b[0m\u001b[0m\n",
            "\u001b[0;32m<ipython-input-42-b9c5108721f5>\u001b[0m in \u001b[0;36msort\u001b[0;34m(lst)\u001b[0m\n\u001b[1;32m      3\u001b[0m     \u001b[0;32mreturn\u001b[0m\u001b[0;34m\u001b[0m\u001b[0;34m\u001b[0m\u001b[0m\n\u001b[1;32m      4\u001b[0m   \u001b[0;32melse\u001b[0m\u001b[0;34m:\u001b[0m\u001b[0;34m\u001b[0m\u001b[0;34m\u001b[0m\u001b[0m\n\u001b[0;32m----> 5\u001b[0;31m     \u001b[0;32mreturn\u001b[0m \u001b[0mlst\u001b[0m\u001b[0;34m[\u001b[0m\u001b[0;36m0\u001b[0m\u001b[0;34m]\u001b[0m\u001b[0;34m<\u001b[0m\u001b[0msort\u001b[0m\u001b[0;34m(\u001b[0m\u001b[0mlst\u001b[0m\u001b[0;34m[\u001b[0m\u001b[0;36m1\u001b[0m\u001b[0;34m:\u001b[0m\u001b[0;34m]\u001b[0m\u001b[0;34m)\u001b[0m\u001b[0;34m\u001b[0m\u001b[0;34m\u001b[0m\u001b[0m\n\u001b[0m\u001b[1;32m      6\u001b[0m \u001b[0msort\u001b[0m\u001b[0;34m(\u001b[0m\u001b[0;34m[\u001b[0m\u001b[0;36m1\u001b[0m\u001b[0;34m,\u001b[0m\u001b[0;36m2\u001b[0m\u001b[0;34m,\u001b[0m\u001b[0;36m22\u001b[0m\u001b[0;34m,\u001b[0m\u001b[0;36m3\u001b[0m\u001b[0;34m,\u001b[0m\u001b[0;36m1\u001b[0m\u001b[0;34m,\u001b[0m\u001b[0;36m0\u001b[0m\u001b[0;34m]\u001b[0m\u001b[0;34m)\u001b[0m\u001b[0;34m\u001b[0m\u001b[0;34m\u001b[0m\u001b[0m\n",
            "\u001b[0;32m<ipython-input-42-b9c5108721f5>\u001b[0m in \u001b[0;36msort\u001b[0;34m(lst)\u001b[0m\n\u001b[1;32m      3\u001b[0m     \u001b[0;32mreturn\u001b[0m\u001b[0;34m\u001b[0m\u001b[0;34m\u001b[0m\u001b[0m\n\u001b[1;32m      4\u001b[0m   \u001b[0;32melse\u001b[0m\u001b[0;34m:\u001b[0m\u001b[0;34m\u001b[0m\u001b[0;34m\u001b[0m\u001b[0m\n\u001b[0;32m----> 5\u001b[0;31m     \u001b[0;32mreturn\u001b[0m \u001b[0mlst\u001b[0m\u001b[0;34m[\u001b[0m\u001b[0;36m0\u001b[0m\u001b[0;34m]\u001b[0m\u001b[0;34m<\u001b[0m\u001b[0msort\u001b[0m\u001b[0;34m(\u001b[0m\u001b[0mlst\u001b[0m\u001b[0;34m[\u001b[0m\u001b[0;36m1\u001b[0m\u001b[0;34m:\u001b[0m\u001b[0;34m]\u001b[0m\u001b[0;34m)\u001b[0m\u001b[0;34m\u001b[0m\u001b[0;34m\u001b[0m\u001b[0m\n\u001b[0m\u001b[1;32m      6\u001b[0m \u001b[0msort\u001b[0m\u001b[0;34m(\u001b[0m\u001b[0;34m[\u001b[0m\u001b[0;36m1\u001b[0m\u001b[0;34m,\u001b[0m\u001b[0;36m2\u001b[0m\u001b[0;34m,\u001b[0m\u001b[0;36m22\u001b[0m\u001b[0;34m,\u001b[0m\u001b[0;36m3\u001b[0m\u001b[0;34m,\u001b[0m\u001b[0;36m1\u001b[0m\u001b[0;34m,\u001b[0m\u001b[0;36m0\u001b[0m\u001b[0;34m]\u001b[0m\u001b[0;34m)\u001b[0m\u001b[0;34m\u001b[0m\u001b[0;34m\u001b[0m\u001b[0m\n",
            "\u001b[0;32m<ipython-input-42-b9c5108721f5>\u001b[0m in \u001b[0;36msort\u001b[0;34m(lst)\u001b[0m\n\u001b[1;32m      3\u001b[0m     \u001b[0;32mreturn\u001b[0m\u001b[0;34m\u001b[0m\u001b[0;34m\u001b[0m\u001b[0m\n\u001b[1;32m      4\u001b[0m   \u001b[0;32melse\u001b[0m\u001b[0;34m:\u001b[0m\u001b[0;34m\u001b[0m\u001b[0;34m\u001b[0m\u001b[0m\n\u001b[0;32m----> 5\u001b[0;31m     \u001b[0;32mreturn\u001b[0m \u001b[0mlst\u001b[0m\u001b[0;34m[\u001b[0m\u001b[0;36m0\u001b[0m\u001b[0;34m]\u001b[0m\u001b[0;34m<\u001b[0m\u001b[0msort\u001b[0m\u001b[0;34m(\u001b[0m\u001b[0mlst\u001b[0m\u001b[0;34m[\u001b[0m\u001b[0;36m1\u001b[0m\u001b[0;34m:\u001b[0m\u001b[0;34m]\u001b[0m\u001b[0;34m)\u001b[0m\u001b[0;34m\u001b[0m\u001b[0;34m\u001b[0m\u001b[0m\n\u001b[0m\u001b[1;32m      6\u001b[0m \u001b[0msort\u001b[0m\u001b[0;34m(\u001b[0m\u001b[0;34m[\u001b[0m\u001b[0;36m1\u001b[0m\u001b[0;34m,\u001b[0m\u001b[0;36m2\u001b[0m\u001b[0;34m,\u001b[0m\u001b[0;36m22\u001b[0m\u001b[0;34m,\u001b[0m\u001b[0;36m3\u001b[0m\u001b[0;34m,\u001b[0m\u001b[0;36m1\u001b[0m\u001b[0;34m,\u001b[0m\u001b[0;36m0\u001b[0m\u001b[0;34m]\u001b[0m\u001b[0;34m)\u001b[0m\u001b[0;34m\u001b[0m\u001b[0;34m\u001b[0m\u001b[0m\n",
            "\u001b[0;31mTypeError\u001b[0m: '<' not supported between instances of 'int' and 'NoneType'"
          ]
        }
      ]
    }
  ],
  "metadata": {
    "colab": {
      "provenance": [],
      "authorship_tag": "ABX9TyOQaTSP4DLzsy8mWQdPC5Z5",
      "include_colab_link": true
    },
    "kernelspec": {
      "display_name": "Python 3",
      "name": "python3"
    },
    "language_info": {
      "name": "python"
    }
  },
  "nbformat": 4,
  "nbformat_minor": 0
}