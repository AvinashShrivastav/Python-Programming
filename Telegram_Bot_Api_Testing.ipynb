{
  "nbformat": 4,
  "nbformat_minor": 0,
  "metadata": {
    "colab": {
      "provenance": [],
      "authorship_tag": "ABX9TyOnTdL+1eSlGEb+BnEeBb2y",
      "include_colab_link": true
    },
    "kernelspec": {
      "name": "python3",
      "display_name": "Python 3"
    },
    "language_info": {
      "name": "python"
    }
  },
  "cells": [
    {
      "cell_type": "markdown",
      "metadata": {
        "id": "view-in-github",
        "colab_type": "text"
      },
      "source": [
        "<a href=\"https://colab.research.google.com/github/AvinashShrivastav/Python-Programming/blob/main/Telegram_Bot_Api_Testing.ipynb\" target=\"_parent\"><img src=\"https://colab.research.google.com/assets/colab-badge.svg\" alt=\"Open In Colab\"/></a>"
      ]
    },
    {
      "cell_type": "markdown",
      "source": [
        "The aim of the project is to make a telegram bot which can do a lot more than just processing natural language. This Bot, my first project (the dedicated one is going to use anything or everything "
      ],
      "metadata": {
        "id": "0A9icNBmR8TE"
      }
    },
    {
      "cell_type": "code",
      "source": [
        "!sudo apt install tesseract-ocr\n",
        "!pip install pytesseract"
      ],
      "metadata": {
        "id": "kENosggY8Chp"
      },
      "execution_count": null,
      "outputs": []
    },
    {
      "cell_type": "markdown",
      "source": [],
      "metadata": {
        "id": "2hjpcXNkR60V"
      }
    },
    {
      "cell_type": "code",
      "source": [
        "#Basic Prototype of the bot code\n",
        "import requests\n",
        "import json\n",
        "import numpy as np\n",
        "import pandas as pd\n",
        "import csv\n",
        "from csv import writer\n",
        "import pytesseract\n",
        "from PIL import Image\n",
        "import urllib.request\n",
        "import random\n",
        "import time\n",
        "token = '5734867559:AAFY6MU-lqPOkPWGb2VkB4uPnIwG3PPR85c'\n",
        "base_url = 'https://api.telegram.org/bot{}'.format(token)"
      ],
      "metadata": {
        "id": "JVHKOpZ61XA-"
      },
      "execution_count": null,
      "outputs": []
    },
    {
      "cell_type": "code",
      "source": [
        "def check_condition(msg_dict):\n",
        "  try:\n",
        "    if 'A' in msg_dict['text']:\n",
        "      send_msg(msg_dict)\n",
        "    else :\n",
        "      send_msg(msg_dict)\n",
        "  except:\n",
        "    send_msg(msg_dict)\n",
        "\n"
      ],
      "metadata": {
        "id": "5yT5mF9Q2WUS"
      },
      "execution_count": null,
      "outputs": []
    },
    {
      "cell_type": "code",
      "source": [
        "# #Defining Function to Classify data:\n",
        "response = {'ok': True, 'result': [{'update_id': 784221914, 'edited_message': {'message_id': 41, 'from': {'id': 1422299869, 'is_bot': False, 'first_name': 'Avinash', 'last_name': 'Shrivastava', 'username': 'avishrivastava', 'language_code': 'en'}, 'chat': {'id': 1422299869, 'first_name': 'Avinash', 'last_name': 'Shrivastava', 'username': 'avishrivastava', 'type': 'private'}, 'date': 1665998642, 'text': 'hii'}}]}\n",
        "# response = {'ok': True, 'result': []}\n",
        "response = {'ok': True, 'result': [{'update_id': 784221969, 'message': {'message_id': 167, 'from': {'id': 1422299869, 'is_bot': False, 'first_name': 'Avinash', 'last_name': 'Shrivastava', 'username': 'avishrivastava', 'language_code': 'en'}, 'chat': {'id': 1422299869, 'first_name': 'Avinash', 'last_name': 'Shrivastava', 'username': 'avishrivastava', 'type': 'private'}, 'date': 1666029223, 'photo': [{'file_id': 'AgACAgUAAxkBAAOnY02Wp2jcBcc_55i44q9hhj7Up4YAAvOzMRvPeGlW1a1_CT3MOrIBAAMCAANzAAMqBA', 'file_unique_id': 'AQAD87MxG894aVZ4', 'file_size': 1081, 'width': 90, 'height': 73}, {'file_id': 'AgACAgUAAxkBAAOnY02Wp2jcBcc_55i44q9hhj7Up4YAAvOzMRvPeGlW1a1_CT3MOrIBAAMCAANtAAMqBA', 'file_unique_id': 'AQAD87MxG894aVZy', 'file_size': 17657, 'width': 320, 'height': 258}, {'file_id': 'AgACAgUAAxkBAAOnY02Wp2jcBcc_55i44q9hhj7Up4YAAvOzMRvPeGlW1a1_CT3MOrIBAAMCAAN4AAMqBA', 'file_unique_id': 'AQAD87MxG894aVZ9', 'file_size': 36816, 'width': 600, 'height': 484}]}}]}\n",
        "def classify(response):\n",
        "  if 'message' in response['result'][0].keys():\n",
        "    check = 'message'\n",
        "    if 'text' in response['result'][0][check]:\n",
        "      typeofmsg = 'text'\n",
        "    elif 'photo' in response['result'][0][check].keys():\n",
        "      typeofmsg = 'photo'\n",
        "  elif 'edited_message' in response['result'][0].keys():\n",
        "    check = 'edited_message'\n",
        "    if 'text' in response['result'][0][check]:\n",
        "      typeofmsg = 'text'\n",
        "    elif 'photo' in response['result'][0][check].keys():\n",
        "      typeofmsg = 'photo'\n",
        "  return {'check':check , 'typeofmsg':typeofmsg}\n",
        "response_data = classify(response)\n",
        "print(response['result'][0].values()) #This returns all the data in the form of tuple which means it is not mutable."
      ],
      "metadata": {
        "colab": {
          "base_uri": "https://localhost:8080/"
        },
        "id": "QwMorCqckteC",
        "outputId": "3404a17c-de08-4e5f-c403-f589522f090b"
      },
      "execution_count": null,
      "outputs": [
        {
          "output_type": "stream",
          "name": "stdout",
          "text": [
            "dict_values([784221969, {'message_id': 167, 'from': {'id': 1422299869, 'is_bot': False, 'first_name': 'Avinash', 'last_name': 'Shrivastava', 'username': 'avishrivastava', 'language_code': 'en'}, 'chat': {'id': 1422299869, 'first_name': 'Avinash', 'last_name': 'Shrivastava', 'username': 'avishrivastava', 'type': 'private'}, 'date': 1666029223, 'photo': [{'file_id': 'AgACAgUAAxkBAAOnY02Wp2jcBcc_55i44q9hhj7Up4YAAvOzMRvPeGlW1a1_CT3MOrIBAAMCAANzAAMqBA', 'file_unique_id': 'AQAD87MxG894aVZ4', 'file_size': 1081, 'width': 90, 'height': 73}, {'file_id': 'AgACAgUAAxkBAAOnY02Wp2jcBcc_55i44q9hhj7Up4YAAvOzMRvPeGlW1a1_CT3MOrIBAAMCAANtAAMqBA', 'file_unique_id': 'AQAD87MxG894aVZy', 'file_size': 17657, 'width': 320, 'height': 258}, {'file_id': 'AgACAgUAAxkBAAOnY02Wp2jcBcc_55i44q9hhj7Up4YAAvOzMRvPeGlW1a1_CT3MOrIBAAMCAAN4AAMqBA', 'file_unique_id': 'AQAD87MxG894aVZ9', 'file_size': 36816, 'width': 600, 'height': 484}]}])\n"
          ]
        }
      ]
    },
    {
      "cell_type": "code",
      "source": [
        "def msg_data(response,check,typeofmsg):\n",
        "  if typeofmsg =='text':\n",
        "    try:\n",
        "      update_id = response['result'][0]['update_id']\n",
        "      message_id = response['result'][0][check]['message_id']\n",
        "      user_id = response['result'][0][check]['from']['id']\n",
        "      is_bot = response['result'][0][check]['from']['is_bot']\n",
        "      first_name = response['result'][0][check]['from']['first_name']\n",
        "      try:\n",
        "        last_name = response['result'][0][check]['from']['last_name']\n",
        "      except:\n",
        "        last_name='Not Available'\n",
        "      try:\n",
        "        username = response['result'][0][check]['from']['username']\n",
        "      except: \n",
        "        username = 'Not Available'\n",
        "      Type = response['result'][0][check]['chat']['type']\n",
        "      chat_id = response['result'][0][check]['chat']['id']\n",
        "      text = response['result'][0][check]['text']\n",
        "\n",
        "      msg_dict =  {\n",
        "          'update_id': update_id,\n",
        "          'message_id' :message_id,\n",
        "          'user_id': user_id,\n",
        "          'is_bot': is_bot,\n",
        "          'first_name':first_name,\n",
        "          'last_name' :last_name,\n",
        "          'username': username,\n",
        "          'Type': Type,\n",
        "          'chat_id': chat_id,\n",
        "          'text': text\n",
        "\n",
        "      }\n",
        "\n",
        "      return msg_dict\n",
        "    except :\n",
        "      msg_dict= {\n",
        "          'update_id': np.nan,\n",
        "          'message_id': np.nan,\n",
        "          'user_id': np.nan,\n",
        "          'is_bot': None,\n",
        "          'first_name': None,\n",
        "          'last_name' : None,\n",
        "          'username': None,\n",
        "          'Type': None,\n",
        "          'chat_id': np.nan,\n",
        "          'text': None\n",
        "      }\n",
        "      return msg_dict\n",
        "  elif typeofmsg == 'photo':\n",
        "    pd = photo_data(response,check)\n",
        "    try:\n",
        "      update_id = response['result'][0]['update_id']\n",
        "      message_id = response['result'][0][check]['message_id']\n",
        "      user_id = response['result'][0][check]['from']['id']\n",
        "      is_bot = response['result'][0][check]['from']['is_bot']\n",
        "      first_name = response['result'][0][check]['from']['first_name']\n",
        "      try:\n",
        "        last_name = response['result'][0][check]['from']['last_name']\n",
        "      except:\n",
        "        last_name='Not Available'\n",
        "      try:\n",
        "        username = response['result'][0][check]['from']['username']\n",
        "      except: \n",
        "        username = 'Not Available'\n",
        "      Type = response['result'][0][check]['chat']['type']\n",
        "      chat_id = response['result'][0][check]['chat']['id']\n",
        "      \n",
        "\n",
        "      msg_dict =  {\n",
        "          'update_id': update_id,\n",
        "          'message_id' :message_id,\n",
        "          'user_id': user_id,\n",
        "          'is_bot': is_bot,\n",
        "          'first_name':first_name,\n",
        "          'last_name' :last_name,\n",
        "          'username': username,\n",
        "          'Type': Type,\n",
        "          'chat_id': chat_id,\n",
        "          'text': pd['textofimage']\n",
        "\n",
        "\n",
        "      }\n",
        "\n",
        "      return msg_dict\n",
        "    except :\n",
        "      msg_dict= {\n",
        "          'update_id': np.nan,\n",
        "          'message_id': np.nan,\n",
        "          'user_id': np.nan,\n",
        "          'is_bot': None,\n",
        "          'first_name': None,\n",
        "          'last_name' : None,\n",
        "          'username': None,\n",
        "          'Type': None,\n",
        "          'chat_id': np.nan,\n",
        "          'text': None\n",
        "      }\n",
        "      return msg_dict\n"
      ],
      "metadata": {
        "id": "EwVIDh1n3tSY"
      },
      "execution_count": null,
      "outputs": []
    },
    {
      "cell_type": "code",
      "source": [
        "def photo_data(response,check):\n",
        "  file_id = response['result'][0][check]['photo'][-1]['file_id']\n",
        "  msg_dict = get_file(file_id)\n",
        "  return msg_dict\n"
      ],
      "metadata": {
        "id": "CrmTdI-s46wu"
      },
      "execution_count": null,
      "outputs": []
    },
    {
      "cell_type": "code",
      "source": [
        "def get_file(file_id):\n",
        "  token = '5734867559:AAFY6MU-lqPOkPWGb2VkB4uPnIwG3PPR85c'\n",
        "  base_url = ' https://api.telegram.org/bot{}'.format(token)\n",
        "  getFile = requests.get(base_url+\"/getFile?file_id=\"+file_id).json()\n",
        "  file_path = getFile[\"result\"]['file_path']\n",
        "  photo_url = 'https://api.telegram.org/file/bot'+token+'/'+file_path\n",
        "  print(photo_url)\n",
        "  urllib.request.urlretrieve(photo_url,\"image.png\")\n",
        "  img = Image.open('image.png')\n",
        "  textofimage = pytesseract.image_to_string(img)\n",
        "  msg_dict = {\n",
        "      'photo_url':photo_url,\n",
        "      'textofimage': textofimage\n",
        "  }\n",
        "  return msg_dict\n",
        "  response = {'ok': True, 'result': [{'update_id': 784221969, 'message': {'message_id': 167, 'from': {'id': 1422299869, 'is_bot': False, 'first_name': 'Avinash', 'last_name': 'Shrivastava', 'username': 'avishrivastava', 'language_code': 'en'}, 'chat': {'id': 1422299869, 'first_name': 'Avinash', 'last_name': 'Shrivastava', 'username': 'avishrivastava', 'type': 'private'}, 'date': 1666029223, 'photo': [{'file_id': 'AgACAgUAAxkBAAOnY02Wp2jcBcc_55i44q9hhj7Up4YAAvOzMRvPeGlW1a1_CT3MOrIBAAMCAANzAAMqBA', 'file_unique_id': 'AQAD87MxG894aVZ4', 'file_size': 1081, 'width': 90, 'height': 73}, {'file_id': 'AgACAgUAAxkBAAOnY02Wp2jcBcc_55i44q9hhj7Up4YAAvOzMRvPeGlW1a1_CT3MOrIBAAMCAANtAAMqBA', 'file_unique_id': 'AQAD87MxG894aVZy', 'file_size': 17657, 'width': 320, 'height': 258}, {'file_id': 'AgACAgUAAxkBAAOnY02Wp2jcBcc_55i44q9hhj7Up4YAAvOzMRvPeGlW1a1_CT3MOrIBAAMCAAN4AAMqBA', 'file_unique_id': 'AQAD87MxG894aVZ9', 'file_size': 36816, 'width': 600, 'height': 484}]}}]}\n",
        "file_id = response['result'][0]['message']['photo'][-1]['file_id']\n",
        "msg_dict = get_file(file_id)\n",
        "print(msg_dict)"
      ],
      "metadata": {
        "colab": {
          "base_uri": "https://localhost:8080/"
        },
        "id": "Z8wrVWU56TJp",
        "outputId": "bd92320d-bb41-43d2-8ec5-535b398d97a7"
      },
      "execution_count": null,
      "outputs": [
        {
          "output_type": "stream",
          "name": "stdout",
          "text": [
            "https://api.telegram.org/file/bot5734867559:AAFY6MU-lqPOkPWGb2VkB4uPnIwG3PPR85c/photos/file_0.jpg\n",
            "{'photo_url': 'https://api.telegram.org/file/bot5734867559:AAFY6MU-lqPOkPWGb2VkB4uPnIwG3PPR85c/photos/file_0.jpg', 'textofimage': 'Latest Updates\\n\\n06 October\\nExam Centre Details For October 16th, 2022 (Quiz 1/\\nQualifier Exam)\\n\\nBelow is exam centre details,\\nTest centre name : iON Digital Zone iDZ Sandalpur\\n\\nTest centre address : Opp St Pauls International School, Near sandal\\ngarden marriage hall, Shanichra Mandir Road Sandal Pur,Kumhrar,\\nPatna, Bihar, India, 800006\\n\\nCourse Name :Maths 1,English 1,CT,Stats-1\\nSession :Afternoon\\n\\nIn case of any change we will keep you posted. Hall ticket will be\\nreleased on or before 13th October,2022.\\n\\x0c'}\n"
          ]
        }
      ]
    },
    {
      "cell_type": "markdown",
      "source": [
        "getMe Method : A simple method for testing your bot's authentication \n",
        "oken. Requires no parameters. Returns basic information about the bot in form of a User object.\n",
        "\n"
      ],
      "metadata": {
        "id": "pVCKhnKUlDrS"
      }
    },
    {
      "cell_type": "code",
      "execution_count": null,
      "metadata": {
        "colab": {
          "base_uri": "https://localhost:8080/",
          "height": 244
        },
        "id": "QwTSr-P9hNPQ",
        "outputId": "bb5cccf8-a06c-4325-c508-707b42c30b86"
      },
      "outputs": [
        {
          "output_type": "stream",
          "name": "stdout",
          "text": [
            "{'ok': True, 'result': {'id': 5734867559, 'is_bot': True, 'first_name': 'TelegramTest', 'username': 'PAofAvibot', 'can_join_groups': True, 'can_read_all_group_messages': True, 'supports_inline_queries': False}}\n"
          ]
        },
        {
          "output_type": "error",
          "ename": "NameError",
          "evalue": "ignored",
          "traceback": [
            "\u001b[0;31m---------------------------------------------------------------------------\u001b[0m",
            "\u001b[0;31mNameError\u001b[0m                                 Traceback (most recent call last)",
            "\u001b[0;32m<ipython-input-7-d6aa2efb7903>\u001b[0m in \u001b[0;36m<module>\u001b[0;34m\u001b[0m\n\u001b[1;32m      2\u001b[0m \u001b[0mbot_info\u001b[0m \u001b[0;34m=\u001b[0m \u001b[0mrequests\u001b[0m\u001b[0;34m.\u001b[0m\u001b[0mget\u001b[0m\u001b[0;34m(\u001b[0m\u001b[0mbase_url\u001b[0m \u001b[0;34m+\u001b[0m \u001b[0;34m'/'\u001b[0m \u001b[0;34m+\u001b[0m \u001b[0mmethod\u001b[0m \u001b[0;34m)\u001b[0m\u001b[0;34m\u001b[0m\u001b[0;34m\u001b[0m\u001b[0m\n\u001b[1;32m      3\u001b[0m \u001b[0mprint\u001b[0m\u001b[0;34m(\u001b[0m\u001b[0mbot_info\u001b[0m\u001b[0;34m.\u001b[0m\u001b[0mjson\u001b[0m\u001b[0;34m(\u001b[0m\u001b[0;34m)\u001b[0m\u001b[0;34m)\u001b[0m\u001b[0;34m\u001b[0m\u001b[0;34m\u001b[0m\u001b[0m\n\u001b[0;32m----> 4\u001b[0;31m \u001b[0mresponse_data\u001b[0m \u001b[0;34m=\u001b[0m \u001b[0mread_msg\u001b[0m\u001b[0;34m(\u001b[0m\u001b[0mbase_url\u001b[0m\u001b[0;34m,\u001b[0m\u001b[0mupdate_id\u001b[0m\u001b[0;34m+\u001b[0m\u001b[0;36m1\u001b[0m\u001b[0;34m)\u001b[0m\u001b[0;34m\u001b[0m\u001b[0;34m\u001b[0m\u001b[0m\n\u001b[0m",
            "\u001b[0;31mNameError\u001b[0m: name 'read_msg' is not defined"
          ]
        }
      ],
      "source": [
        "method = 'getMe'\n",
        "bot_info = requests.get(base_url + '/' + method )\n",
        "print(bot_info.json())\n",
        "response_data = read_msg(base_url,update_id+1)"
      ]
    },
    {
      "cell_type": "markdown",
      "source": [
        "logOut Method: Use this method to log out from the cloud Bot API server before launching the bot locally. You must log out the bot before running it locally, otherwise there is no guarantee that the bot will receive updates. After a successful call, you can immediately log in on a local server, but will not be able to log in back to the cloud Bot API server for 10 minutes. Returns True on success. Requires no parameters."
      ],
      "metadata": {
        "id": "W50UjW_xlcFM"
      }
    },
    {
      "cell_type": "code",
      "source": [
        "method = 'logOut'\n",
        "# requests.get(base_url + '/' + method )"
      ],
      "metadata": {
        "colab": {
          "base_uri": "https://localhost:8080/"
        },
        "id": "BACA_g_sksTO",
        "outputId": "bb48e1ed-87f5-4a69-e27f-15ad0528dbe5"
      },
      "execution_count": null,
      "outputs": [
        {
          "output_type": "execute_result",
          "data": {
            "text/plain": [
              "<Response [200]>"
            ]
          },
          "metadata": {},
          "execution_count": 13
        }
      ]
    },
    {
      "cell_type": "markdown",
      "source": [
        "close: Use this method to close the bot instance before moving it from one local server to another. You need to delete the webhook before calling this method to ensure that the bot isn't launched again after server restart. The method will return error 429 in the first 10 minutes after the bot is launched. Returns True on success. Requires no parameters."
      ],
      "metadata": {
        "id": "5OogKcxlnTWO"
      }
    },
    {
      "cell_type": "code",
      "source": [
        "method = 'close'\n",
        "# requests.get(base_url + '/' + method )"
      ],
      "metadata": {
        "id": "aM3w1kIFnS3R"
      },
      "execution_count": null,
      "outputs": []
    },
    {
      "cell_type": "markdown",
      "source": [
        "sendMessage: Use this method to send text messages. On success, the sent Message is returned"
      ],
      "metadata": {
        "id": "oddbELIBnqfD"
      }
    },
    {
      "cell_type": "code",
      "source": [
        "# msg_dict = {'update_id': 784221914,\n",
        "#  'message_id': 41,\n",
        "#  'user_id': 1422299869,\n",
        "#  'is_bot': False,\n",
        "#  'first_name': 'Avinash',\n",
        "#  'last_name': 'Shrivastava',\n",
        "#  'username': 'avishrivastava',\n",
        "#  'Type': 'private',\n",
        "#  'chat_id': 1422299869,\n",
        "#  'text': 'hii'}\n",
        "def send_msg(msg_dict):\n",
        "  method = 'sendMessage'\n",
        "  param = {\n",
        "      'chat_id':msg_dict['id'] ,\n",
        "      'text' : msg_dict['text'],\n",
        "      'protect_content' : True,\n",
        "      'reply_to_message_id' : msg_dict['message_id'],\n",
        "      'allow_sending_without_reply': True\n",
        "\n",
        "  }\n",
        "  results = requests.get(base_url + '/' + method ,param)\n",
        "  save_data(results,msg_dict)\n",
        "  if ['Type']=='private':\n",
        "    req_msg(msg_dict)\n",
        "  print(results.json())\n",
        "  return \n",
        "\n",
        "# send_msg(msg_dict)"
      ],
      "metadata": {
        "id": "yeQGlhsmnyHe"
      },
      "execution_count": null,
      "outputs": []
    },
    {
      "cell_type": "code",
      "source": [
        "def message_id(response):\n",
        "  message_id = []\n",
        "  for i in range(len(response['result'])):\n",
        "    msgTpye = list(response['result'][i])[-1]\n",
        "    return msgTpye\n",
        "    message_id =message_id + [response['result'][i]['message_id']]\n",
        "  return message_id\n",
        "message_id(textmsg)"
      ],
      "metadata": {
        "colab": {
          "base_uri": "https://localhost:8080/",
          "height": 35
        },
        "id": "dT1AfsoHWBRX",
        "outputId": "a3caf4af-082d-43f5-fff5-26dd854ab65c"
      },
      "execution_count": null,
      "outputs": [
        {
          "output_type": "execute_result",
          "data": {
            "text/plain": [
              "'message'"
            ],
            "application/vnd.google.colaboratory.intrinsic+json": {
              "type": "string"
            }
          },
          "metadata": {},
          "execution_count": 65
        }
      ]
    },
    {
      "cell_type": "markdown",
      "source": [],
      "metadata": {
        "id": "AxpeQMpFn4bW"
      }
    },
    {
      "cell_type": "code",
      "source": [
        "def req_msg(msg_dict):\n",
        "  method = 'sendMessage'\n",
        "  param = {\n",
        "      'chat_id':msg_dict['chat_id'] ,\n",
        "      'text' :\"It would be highly appreciable if you join my group and give feedback. See you there!\",\n",
        "      'protect_content' : True,\n",
        "      'allow_sending_without_reply': True\n",
        "\n",
        "  }\n",
        "  results = requests.get(base_url + '/' + method ,param)"
      ],
      "metadata": {
        "id": "R-tnB-c5Wmo8"
      },
      "execution_count": null,
      "outputs": []
    },
    {
      "cell_type": "code",
      "source": [
        "def save_data(response,msg_dict):\n",
        "  with open('data.csv', 'a') as csvfile:\n",
        "    w = writer(csvfile)\n",
        "    w.writerow(msg_dict.values())\n",
        "    csvfile.close()\n",
        "           "
      ],
      "metadata": {
        "id": "emmFGaiJW1wl"
      },
      "execution_count": null,
      "outputs": []
    },
    {
      "cell_type": "code",
      "source": [
        "def editMessageText(results,text):\n",
        "  method = 'editMessageText'\n",
        "  param = {\n",
        "      'message_id': results['result']['message_id'],\n",
        "      'chat_id':1422299869 ,\n",
        "      'text' : text,\n",
        "      'protect_content' : True,\n",
        "      'allow_sending_without_reply': True\n",
        "\n",
        "    }\n",
        "  requests.get(base_url + '/' + method ,param)"
      ],
      "metadata": {
        "id": "AYVwF6_zn42y"
      },
      "execution_count": null,
      "outputs": []
    },
    {
      "cell_type": "code",
      "source": [
        "def send_msg2(response):\n",
        "  method = 'sendMessage'\n",
        "  param = {\n",
        "      'chat_id':1422299869 ,\n",
        "      'text' : 'hey'\n",
        "\n",
        "  }\n",
        "  results = requests.get(base_url + '/' + method ,param)\n",
        "  print(results.json())\n",
        "  time.sleep(1)\n",
        "  editMessageText(results.json(),3)\n",
        "  time.sleep(1)\n",
        "  editMessageText(results.json(),2)\n",
        "  time.sleep(1)\n",
        "  editMessageText(results.json(),1)\n",
        "  editMessageText(results.json(),'Lets Go!!!!!')\n",
        "  time.sleep(2)\n",
        "  deleteMessage(results.json())\n"
      ],
      "metadata": {
        "id": "Mbt2rgsQFkdt"
      },
      "execution_count": null,
      "outputs": []
    },
    {
      "cell_type": "markdown",
      "source": [],
      "metadata": {
        "id": "SGgQAnhIn5Er"
      }
    },
    {
      "cell_type": "code",
      "source": [
        "def deleteMessage(results):\n",
        "  method = 'deleteMessage'\n",
        "  param = {\n",
        "      'message_id': results['result']['message_id'],\n",
        "      'chat_id':1422299869\n",
        "  }\n",
        "  requests.get(base_url + '/' + method ,param)\n"
      ],
      "metadata": {
        "id": "e8HZv5cpn5QL"
      },
      "execution_count": null,
      "outputs": []
    },
    {
      "cell_type": "markdown",
      "source": [],
      "metadata": {
        "id": "ceno3wlCn5bP"
      }
    },
    {
      "cell_type": "code",
      "source": [
        "method = ''\n",
        "requests.get(base_url + '/' + method )"
      ],
      "metadata": {
        "id": "xLH5GXOfn5lv"
      },
      "execution_count": null,
      "outputs": []
    },
    {
      "cell_type": "code",
      "source": [
        "keyboard = InlineKeyboardMarkup([{'text':'Hello','url':'#'}])"
      ],
      "metadata": {
        "colab": {
          "base_uri": "https://localhost:8080/",
          "height": 166
        },
        "id": "tWJ2fvSLRBg9",
        "outputId": "1f9d7ece-3fd2-45b8-fe51-dc11866e0910"
      },
      "execution_count": null,
      "outputs": [
        {
          "output_type": "error",
          "ename": "NameError",
          "evalue": "ignored",
          "traceback": [
            "\u001b[0;31m---------------------------------------------------------------------------\u001b[0m",
            "\u001b[0;31mNameError\u001b[0m                                 Traceback (most recent call last)",
            "\u001b[0;32m<ipython-input-48-fcd4e2790d34>\u001b[0m in \u001b[0;36m<module>\u001b[0;34m\u001b[0m\n\u001b[0;32m----> 1\u001b[0;31m \u001b[0mkeyboard\u001b[0m \u001b[0;34m=\u001b[0m \u001b[0mInlineKeyboardMarkup\u001b[0m\u001b[0;34m(\u001b[0m\u001b[0;34m[\u001b[0m\u001b[0;34m{\u001b[0m\u001b[0;34m'text'\u001b[0m\u001b[0;34m:\u001b[0m\u001b[0;34m'Hello'\u001b[0m\u001b[0;34m,\u001b[0m\u001b[0;34m'url'\u001b[0m\u001b[0;34m:\u001b[0m\u001b[0;34m'#'\u001b[0m\u001b[0;34m}\u001b[0m\u001b[0;34m]\u001b[0m\u001b[0;34m)\u001b[0m\u001b[0;34m\u001b[0m\u001b[0;34m\u001b[0m\u001b[0m\n\u001b[0m",
            "\u001b[0;31mNameError\u001b[0m: name 'InlineKeyboardMarkup' is not defined"
          ]
        }
      ]
    },
    {
      "cell_type": "markdown",
      "source": [],
      "metadata": {
        "id": "QH6JijOmn56b"
      }
    },
    {
      "cell_type": "code",
      "source": [
        "method = ''\n",
        "requests.get(base_url + '/' + method )"
      ],
      "metadata": {
        "id": "_-V3_sy_n6GG"
      },
      "execution_count": null,
      "outputs": []
    },
    {
      "cell_type": "markdown",
      "source": [],
      "metadata": {
        "id": "TKk-Hg45n6RT"
      }
    },
    {
      "cell_type": "code",
      "source": [
        "method = ''\n",
        "requests.get(base_url + '/' + method )"
      ],
      "metadata": {
        "id": "dFz1H2dmn6bQ"
      },
      "execution_count": null,
      "outputs": []
    },
    {
      "cell_type": "code",
      "source": [
        "#Main Working Area\n",
        "def read_msg(base_url,offset):\n",
        "  method =  'getUpdates'\n",
        "  param = {\n",
        "      'offset': offset,\n",
        "      'allowed_updates' : ['message','edited_message']\n",
        "  }\n",
        "  response = requests.get(base_url+'/'+ method,params=param).json()\n",
        "  print(response)\n",
        "  if response['result'] != []:\n",
        "    try:\n",
        "      msg = classify(response)\n",
        "    except:\n",
        "      if response[\"result\"]:\n",
        "        return response[\"result\"][-1][\"update_id\"] + 1\n",
        "\n",
        "    msg_dict = msg_data(response,msg['check'],msg['typeofmsg']) #Fetch message data:\n",
        "    print(msg_dict)\n",
        "    for result in response[\"result\"]:\n",
        "      try:\n",
        "        check_condition(msg_dict) #Check Condition Block:\n",
        "      except:\n",
        "        errorsend_msg(msg_dict)\n",
        "      if response[\"result\"]:\n",
        "        return response[\"result\"][-1][\"update_id\"] + 1 \n",
        "\n",
        "offset = 0\n",
        "while True:\n",
        "  offset = read_msg(base_url,offset)"
      ],
      "metadata": {
        "colab": {
          "base_uri": "https://localhost:8080/",
          "height": 678
        },
        "id": "OuP4pHx-NAG6",
        "outputId": "be422f99-df7f-40a1-81c2-2f63b4edd7b9"
      },
      "execution_count": null,
      "outputs": [
        {
          "output_type": "stream",
          "name": "stdout",
          "text": [
            "{'ok': True, 'result': []}\n",
            "{'ok': True, 'result': []}\n",
            "{'ok': True, 'result': []}\n",
            "{'ok': True, 'result': []}\n",
            "{'ok': True, 'result': []}\n",
            "{'ok': True, 'result': [{'update_id': 784222018, 'message': {'message_id': 350, 'from': {'id': 1422299869, 'is_bot': False, 'first_name': 'Avinash', 'last_name': 'Shrivastava', 'username': 'avishrivastava', 'language_code': 'en'}, 'chat': {'id': -1001763475425, 'title': 'IITM Buddy', 'type': 'supergroup'}, 'date': 1666982673, 'text': 'Hry'}}]}\n",
            "{'ok': True, 'result': []}\n",
            "{'ok': True, 'result': []}\n",
            "{'ok': True, 'result': []}\n",
            "{'ok': True, 'result': [{'update_id': 784222019, 'message': {'message_id': 351, 'from': {'id': 1422299869, 'is_bot': False, 'first_name': 'Avinash', 'last_name': 'Shrivastava', 'username': 'avishrivastava', 'language_code': 'en'}, 'chat': {'id': -1001763475425, 'title': 'IITM Buddy', 'type': 'supergroup'}, 'date': 1666982678, 'text': 'Hry'}}]}\n",
            "{'ok': True, 'result': []}\n",
            "{'ok': True, 'result': []}\n"
          ]
        },
        {
          "output_type": "error",
          "ename": "KeyboardInterrupt",
          "evalue": "ignored",
          "traceback": [
            "\u001b[0;31m---------------------------------------------------------------------------\u001b[0m",
            "\u001b[0;31mTypeError\u001b[0m                                 Traceback (most recent call last)",
            "\u001b[0;32m/usr/local/lib/python3.7/dist-packages/urllib3/connectionpool.py\u001b[0m in \u001b[0;36m_make_request\u001b[0;34m(self, conn, method, url, timeout, chunked, **httplib_request_kw)\u001b[0m\n\u001b[1;32m    376\u001b[0m             \u001b[0;32mtry\u001b[0m\u001b[0;34m:\u001b[0m  \u001b[0;31m# Python 2.7, use buffering of HTTP responses\u001b[0m\u001b[0;34m\u001b[0m\u001b[0;34m\u001b[0m\u001b[0m\n\u001b[0;32m--> 377\u001b[0;31m                 \u001b[0mhttplib_response\u001b[0m \u001b[0;34m=\u001b[0m \u001b[0mconn\u001b[0m\u001b[0;34m.\u001b[0m\u001b[0mgetresponse\u001b[0m\u001b[0;34m(\u001b[0m\u001b[0mbuffering\u001b[0m\u001b[0;34m=\u001b[0m\u001b[0;32mTrue\u001b[0m\u001b[0;34m)\u001b[0m\u001b[0;34m\u001b[0m\u001b[0;34m\u001b[0m\u001b[0m\n\u001b[0m\u001b[1;32m    378\u001b[0m             \u001b[0;32mexcept\u001b[0m \u001b[0mTypeError\u001b[0m\u001b[0;34m:\u001b[0m  \u001b[0;31m# Python 3\u001b[0m\u001b[0;34m\u001b[0m\u001b[0;34m\u001b[0m\u001b[0m\n",
            "\u001b[0;31mTypeError\u001b[0m: getresponse() got an unexpected keyword argument 'buffering'",
            "\nDuring handling of the above exception, another exception occurred:\n",
            "\u001b[0;31mKeyboardInterrupt\u001b[0m                         Traceback (most recent call last)",
            "\u001b[0;32m<ipython-input-4-90587893a59f>\u001b[0m in \u001b[0;36m<module>\u001b[0;34m\u001b[0m\n\u001b[1;32m     27\u001b[0m \u001b[0moffset\u001b[0m \u001b[0;34m=\u001b[0m \u001b[0;36m0\u001b[0m\u001b[0;34m\u001b[0m\u001b[0;34m\u001b[0m\u001b[0m\n\u001b[1;32m     28\u001b[0m \u001b[0;32mwhile\u001b[0m \u001b[0;32mTrue\u001b[0m\u001b[0;34m:\u001b[0m\u001b[0;34m\u001b[0m\u001b[0;34m\u001b[0m\u001b[0m\n\u001b[0;32m---> 29\u001b[0;31m   \u001b[0moffset\u001b[0m \u001b[0;34m=\u001b[0m \u001b[0mread_msg\u001b[0m\u001b[0;34m(\u001b[0m\u001b[0mbase_url\u001b[0m\u001b[0;34m,\u001b[0m\u001b[0moffset\u001b[0m\u001b[0;34m)\u001b[0m\u001b[0;34m\u001b[0m\u001b[0;34m\u001b[0m\u001b[0m\n\u001b[0m",
            "\u001b[0;32m<ipython-input-4-90587893a59f>\u001b[0m in \u001b[0;36mread_msg\u001b[0;34m(base_url, offset)\u001b[0m\n\u001b[1;32m      6\u001b[0m       \u001b[0;34m'allowed_updates'\u001b[0m \u001b[0;34m:\u001b[0m \u001b[0;34m[\u001b[0m\u001b[0;34m'message'\u001b[0m\u001b[0;34m,\u001b[0m\u001b[0;34m'edited_message'\u001b[0m\u001b[0;34m]\u001b[0m\u001b[0;34m\u001b[0m\u001b[0;34m\u001b[0m\u001b[0m\n\u001b[1;32m      7\u001b[0m   }\n\u001b[0;32m----> 8\u001b[0;31m   \u001b[0mresponse\u001b[0m \u001b[0;34m=\u001b[0m \u001b[0mrequests\u001b[0m\u001b[0;34m.\u001b[0m\u001b[0mget\u001b[0m\u001b[0;34m(\u001b[0m\u001b[0mbase_url\u001b[0m\u001b[0;34m+\u001b[0m\u001b[0;34m'/'\u001b[0m\u001b[0;34m+\u001b[0m \u001b[0mmethod\u001b[0m\u001b[0;34m,\u001b[0m\u001b[0mparams\u001b[0m\u001b[0;34m=\u001b[0m\u001b[0mparam\u001b[0m\u001b[0;34m)\u001b[0m\u001b[0;34m.\u001b[0m\u001b[0mjson\u001b[0m\u001b[0;34m(\u001b[0m\u001b[0;34m)\u001b[0m\u001b[0;34m\u001b[0m\u001b[0;34m\u001b[0m\u001b[0m\n\u001b[0m\u001b[1;32m      9\u001b[0m   \u001b[0mprint\u001b[0m\u001b[0;34m(\u001b[0m\u001b[0mresponse\u001b[0m\u001b[0;34m)\u001b[0m\u001b[0;34m\u001b[0m\u001b[0;34m\u001b[0m\u001b[0m\n\u001b[1;32m     10\u001b[0m   \u001b[0;32mif\u001b[0m \u001b[0mresponse\u001b[0m\u001b[0;34m[\u001b[0m\u001b[0;34m'result'\u001b[0m\u001b[0;34m]\u001b[0m \u001b[0;34m!=\u001b[0m \u001b[0;34m[\u001b[0m\u001b[0;34m]\u001b[0m\u001b[0;34m:\u001b[0m\u001b[0;34m\u001b[0m\u001b[0;34m\u001b[0m\u001b[0m\n",
            "\u001b[0;32m/usr/local/lib/python3.7/dist-packages/requests/api.py\u001b[0m in \u001b[0;36mget\u001b[0;34m(url, params, **kwargs)\u001b[0m\n\u001b[1;32m     74\u001b[0m \u001b[0;34m\u001b[0m\u001b[0m\n\u001b[1;32m     75\u001b[0m     \u001b[0mkwargs\u001b[0m\u001b[0;34m.\u001b[0m\u001b[0msetdefault\u001b[0m\u001b[0;34m(\u001b[0m\u001b[0;34m'allow_redirects'\u001b[0m\u001b[0;34m,\u001b[0m \u001b[0;32mTrue\u001b[0m\u001b[0;34m)\u001b[0m\u001b[0;34m\u001b[0m\u001b[0;34m\u001b[0m\u001b[0m\n\u001b[0;32m---> 76\u001b[0;31m     \u001b[0;32mreturn\u001b[0m \u001b[0mrequest\u001b[0m\u001b[0;34m(\u001b[0m\u001b[0;34m'get'\u001b[0m\u001b[0;34m,\u001b[0m \u001b[0murl\u001b[0m\u001b[0;34m,\u001b[0m \u001b[0mparams\u001b[0m\u001b[0;34m=\u001b[0m\u001b[0mparams\u001b[0m\u001b[0;34m,\u001b[0m \u001b[0;34m**\u001b[0m\u001b[0mkwargs\u001b[0m\u001b[0;34m)\u001b[0m\u001b[0;34m\u001b[0m\u001b[0;34m\u001b[0m\u001b[0m\n\u001b[0m\u001b[1;32m     77\u001b[0m \u001b[0;34m\u001b[0m\u001b[0m\n\u001b[1;32m     78\u001b[0m \u001b[0;34m\u001b[0m\u001b[0m\n",
            "\u001b[0;32m/usr/local/lib/python3.7/dist-packages/requests/api.py\u001b[0m in \u001b[0;36mrequest\u001b[0;34m(method, url, **kwargs)\u001b[0m\n\u001b[1;32m     59\u001b[0m     \u001b[0;31m# cases, and look like a memory leak in others.\u001b[0m\u001b[0;34m\u001b[0m\u001b[0;34m\u001b[0m\u001b[0;34m\u001b[0m\u001b[0m\n\u001b[1;32m     60\u001b[0m     \u001b[0;32mwith\u001b[0m \u001b[0msessions\u001b[0m\u001b[0;34m.\u001b[0m\u001b[0mSession\u001b[0m\u001b[0;34m(\u001b[0m\u001b[0;34m)\u001b[0m \u001b[0;32mas\u001b[0m \u001b[0msession\u001b[0m\u001b[0;34m:\u001b[0m\u001b[0;34m\u001b[0m\u001b[0;34m\u001b[0m\u001b[0m\n\u001b[0;32m---> 61\u001b[0;31m         \u001b[0;32mreturn\u001b[0m \u001b[0msession\u001b[0m\u001b[0;34m.\u001b[0m\u001b[0mrequest\u001b[0m\u001b[0;34m(\u001b[0m\u001b[0mmethod\u001b[0m\u001b[0;34m=\u001b[0m\u001b[0mmethod\u001b[0m\u001b[0;34m,\u001b[0m \u001b[0murl\u001b[0m\u001b[0;34m=\u001b[0m\u001b[0murl\u001b[0m\u001b[0;34m,\u001b[0m \u001b[0;34m**\u001b[0m\u001b[0mkwargs\u001b[0m\u001b[0;34m)\u001b[0m\u001b[0;34m\u001b[0m\u001b[0;34m\u001b[0m\u001b[0m\n\u001b[0m\u001b[1;32m     62\u001b[0m \u001b[0;34m\u001b[0m\u001b[0m\n\u001b[1;32m     63\u001b[0m \u001b[0;34m\u001b[0m\u001b[0m\n",
            "\u001b[0;32m/usr/local/lib/python3.7/dist-packages/requests/sessions.py\u001b[0m in \u001b[0;36mrequest\u001b[0;34m(self, method, url, params, data, headers, cookies, files, auth, timeout, allow_redirects, proxies, hooks, stream, verify, cert, json)\u001b[0m\n\u001b[1;32m    528\u001b[0m         }\n\u001b[1;32m    529\u001b[0m         \u001b[0msend_kwargs\u001b[0m\u001b[0;34m.\u001b[0m\u001b[0mupdate\u001b[0m\u001b[0;34m(\u001b[0m\u001b[0msettings\u001b[0m\u001b[0;34m)\u001b[0m\u001b[0;34m\u001b[0m\u001b[0;34m\u001b[0m\u001b[0m\n\u001b[0;32m--> 530\u001b[0;31m         \u001b[0mresp\u001b[0m \u001b[0;34m=\u001b[0m \u001b[0mself\u001b[0m\u001b[0;34m.\u001b[0m\u001b[0msend\u001b[0m\u001b[0;34m(\u001b[0m\u001b[0mprep\u001b[0m\u001b[0;34m,\u001b[0m \u001b[0;34m**\u001b[0m\u001b[0msend_kwargs\u001b[0m\u001b[0;34m)\u001b[0m\u001b[0;34m\u001b[0m\u001b[0;34m\u001b[0m\u001b[0m\n\u001b[0m\u001b[1;32m    531\u001b[0m \u001b[0;34m\u001b[0m\u001b[0m\n\u001b[1;32m    532\u001b[0m         \u001b[0;32mreturn\u001b[0m \u001b[0mresp\u001b[0m\u001b[0;34m\u001b[0m\u001b[0;34m\u001b[0m\u001b[0m\n",
            "\u001b[0;32m/usr/local/lib/python3.7/dist-packages/requests/sessions.py\u001b[0m in \u001b[0;36msend\u001b[0;34m(self, request, **kwargs)\u001b[0m\n\u001b[1;32m    641\u001b[0m \u001b[0;34m\u001b[0m\u001b[0m\n\u001b[1;32m    642\u001b[0m         \u001b[0;31m# Send the request\u001b[0m\u001b[0;34m\u001b[0m\u001b[0;34m\u001b[0m\u001b[0;34m\u001b[0m\u001b[0m\n\u001b[0;32m--> 643\u001b[0;31m         \u001b[0mr\u001b[0m \u001b[0;34m=\u001b[0m \u001b[0madapter\u001b[0m\u001b[0;34m.\u001b[0m\u001b[0msend\u001b[0m\u001b[0;34m(\u001b[0m\u001b[0mrequest\u001b[0m\u001b[0;34m,\u001b[0m \u001b[0;34m**\u001b[0m\u001b[0mkwargs\u001b[0m\u001b[0;34m)\u001b[0m\u001b[0;34m\u001b[0m\u001b[0;34m\u001b[0m\u001b[0m\n\u001b[0m\u001b[1;32m    644\u001b[0m \u001b[0;34m\u001b[0m\u001b[0m\n\u001b[1;32m    645\u001b[0m         \u001b[0;31m# Total elapsed time of the request (approximately)\u001b[0m\u001b[0;34m\u001b[0m\u001b[0;34m\u001b[0m\u001b[0;34m\u001b[0m\u001b[0m\n",
            "\u001b[0;32m/usr/local/lib/python3.7/dist-packages/requests/adapters.py\u001b[0m in \u001b[0;36msend\u001b[0;34m(self, request, stream, timeout, verify, cert, proxies)\u001b[0m\n\u001b[1;32m    447\u001b[0m                     \u001b[0mdecode_content\u001b[0m\u001b[0;34m=\u001b[0m\u001b[0;32mFalse\u001b[0m\u001b[0;34m,\u001b[0m\u001b[0;34m\u001b[0m\u001b[0;34m\u001b[0m\u001b[0m\n\u001b[1;32m    448\u001b[0m                     \u001b[0mretries\u001b[0m\u001b[0;34m=\u001b[0m\u001b[0mself\u001b[0m\u001b[0;34m.\u001b[0m\u001b[0mmax_retries\u001b[0m\u001b[0;34m,\u001b[0m\u001b[0;34m\u001b[0m\u001b[0;34m\u001b[0m\u001b[0m\n\u001b[0;32m--> 449\u001b[0;31m                     \u001b[0mtimeout\u001b[0m\u001b[0;34m=\u001b[0m\u001b[0mtimeout\u001b[0m\u001b[0;34m\u001b[0m\u001b[0;34m\u001b[0m\u001b[0m\n\u001b[0m\u001b[1;32m    450\u001b[0m                 )\n\u001b[1;32m    451\u001b[0m \u001b[0;34m\u001b[0m\u001b[0m\n",
            "\u001b[0;32m/usr/local/lib/python3.7/dist-packages/urllib3/connectionpool.py\u001b[0m in \u001b[0;36murlopen\u001b[0;34m(self, method, url, body, headers, retries, redirect, assert_same_host, timeout, pool_timeout, release_conn, chunked, body_pos, **response_kw)\u001b[0m\n\u001b[1;32m    598\u001b[0m                                                   \u001b[0mtimeout\u001b[0m\u001b[0;34m=\u001b[0m\u001b[0mtimeout_obj\u001b[0m\u001b[0;34m,\u001b[0m\u001b[0;34m\u001b[0m\u001b[0;34m\u001b[0m\u001b[0m\n\u001b[1;32m    599\u001b[0m                                                   \u001b[0mbody\u001b[0m\u001b[0;34m=\u001b[0m\u001b[0mbody\u001b[0m\u001b[0;34m,\u001b[0m \u001b[0mheaders\u001b[0m\u001b[0;34m=\u001b[0m\u001b[0mheaders\u001b[0m\u001b[0;34m,\u001b[0m\u001b[0;34m\u001b[0m\u001b[0;34m\u001b[0m\u001b[0m\n\u001b[0;32m--> 600\u001b[0;31m                                                   chunked=chunked)\n\u001b[0m\u001b[1;32m    601\u001b[0m \u001b[0;34m\u001b[0m\u001b[0m\n\u001b[1;32m    602\u001b[0m             \u001b[0;31m# If we're going to release the connection in ``finally:``, then\u001b[0m\u001b[0;34m\u001b[0m\u001b[0;34m\u001b[0m\u001b[0;34m\u001b[0m\u001b[0m\n",
            "\u001b[0;32m/usr/local/lib/python3.7/dist-packages/urllib3/connectionpool.py\u001b[0m in \u001b[0;36m_make_request\u001b[0;34m(self, conn, method, url, timeout, chunked, **httplib_request_kw)\u001b[0m\n\u001b[1;32m    378\u001b[0m             \u001b[0;32mexcept\u001b[0m \u001b[0mTypeError\u001b[0m\u001b[0;34m:\u001b[0m  \u001b[0;31m# Python 3\u001b[0m\u001b[0;34m\u001b[0m\u001b[0;34m\u001b[0m\u001b[0m\n\u001b[1;32m    379\u001b[0m                 \u001b[0;32mtry\u001b[0m\u001b[0;34m:\u001b[0m\u001b[0;34m\u001b[0m\u001b[0;34m\u001b[0m\u001b[0m\n\u001b[0;32m--> 380\u001b[0;31m                     \u001b[0mhttplib_response\u001b[0m \u001b[0;34m=\u001b[0m \u001b[0mconn\u001b[0m\u001b[0;34m.\u001b[0m\u001b[0mgetresponse\u001b[0m\u001b[0;34m(\u001b[0m\u001b[0;34m)\u001b[0m\u001b[0;34m\u001b[0m\u001b[0;34m\u001b[0m\u001b[0m\n\u001b[0m\u001b[1;32m    381\u001b[0m                 \u001b[0;32mexcept\u001b[0m \u001b[0mException\u001b[0m \u001b[0;32mas\u001b[0m \u001b[0me\u001b[0m\u001b[0;34m:\u001b[0m\u001b[0;34m\u001b[0m\u001b[0;34m\u001b[0m\u001b[0m\n\u001b[1;32m    382\u001b[0m                     \u001b[0;31m# Remove the TypeError from the exception chain in Python 3;\u001b[0m\u001b[0;34m\u001b[0m\u001b[0;34m\u001b[0m\u001b[0;34m\u001b[0m\u001b[0m\n",
            "\u001b[0;32m/usr/lib/python3.7/http/client.py\u001b[0m in \u001b[0;36mgetresponse\u001b[0;34m(self)\u001b[0m\n\u001b[1;32m   1371\u001b[0m         \u001b[0;32mtry\u001b[0m\u001b[0;34m:\u001b[0m\u001b[0;34m\u001b[0m\u001b[0;34m\u001b[0m\u001b[0m\n\u001b[1;32m   1372\u001b[0m             \u001b[0;32mtry\u001b[0m\u001b[0;34m:\u001b[0m\u001b[0;34m\u001b[0m\u001b[0;34m\u001b[0m\u001b[0m\n\u001b[0;32m-> 1373\u001b[0;31m                 \u001b[0mresponse\u001b[0m\u001b[0;34m.\u001b[0m\u001b[0mbegin\u001b[0m\u001b[0;34m(\u001b[0m\u001b[0;34m)\u001b[0m\u001b[0;34m\u001b[0m\u001b[0;34m\u001b[0m\u001b[0m\n\u001b[0m\u001b[1;32m   1374\u001b[0m             \u001b[0;32mexcept\u001b[0m \u001b[0mConnectionError\u001b[0m\u001b[0;34m:\u001b[0m\u001b[0;34m\u001b[0m\u001b[0;34m\u001b[0m\u001b[0m\n\u001b[1;32m   1375\u001b[0m                 \u001b[0mself\u001b[0m\u001b[0;34m.\u001b[0m\u001b[0mclose\u001b[0m\u001b[0;34m(\u001b[0m\u001b[0;34m)\u001b[0m\u001b[0;34m\u001b[0m\u001b[0;34m\u001b[0m\u001b[0m\n",
            "\u001b[0;32m/usr/lib/python3.7/http/client.py\u001b[0m in \u001b[0;36mbegin\u001b[0;34m(self)\u001b[0m\n\u001b[1;32m    317\u001b[0m         \u001b[0;31m# read until we get a non-100 response\u001b[0m\u001b[0;34m\u001b[0m\u001b[0;34m\u001b[0m\u001b[0;34m\u001b[0m\u001b[0m\n\u001b[1;32m    318\u001b[0m         \u001b[0;32mwhile\u001b[0m \u001b[0;32mTrue\u001b[0m\u001b[0;34m:\u001b[0m\u001b[0;34m\u001b[0m\u001b[0;34m\u001b[0m\u001b[0m\n\u001b[0;32m--> 319\u001b[0;31m             \u001b[0mversion\u001b[0m\u001b[0;34m,\u001b[0m \u001b[0mstatus\u001b[0m\u001b[0;34m,\u001b[0m \u001b[0mreason\u001b[0m \u001b[0;34m=\u001b[0m \u001b[0mself\u001b[0m\u001b[0;34m.\u001b[0m\u001b[0m_read_status\u001b[0m\u001b[0;34m(\u001b[0m\u001b[0;34m)\u001b[0m\u001b[0;34m\u001b[0m\u001b[0;34m\u001b[0m\u001b[0m\n\u001b[0m\u001b[1;32m    320\u001b[0m             \u001b[0;32mif\u001b[0m \u001b[0mstatus\u001b[0m \u001b[0;34m!=\u001b[0m \u001b[0mCONTINUE\u001b[0m\u001b[0;34m:\u001b[0m\u001b[0;34m\u001b[0m\u001b[0;34m\u001b[0m\u001b[0m\n\u001b[1;32m    321\u001b[0m                 \u001b[0;32mbreak\u001b[0m\u001b[0;34m\u001b[0m\u001b[0;34m\u001b[0m\u001b[0m\n",
            "\u001b[0;32m/usr/lib/python3.7/http/client.py\u001b[0m in \u001b[0;36m_read_status\u001b[0;34m(self)\u001b[0m\n\u001b[1;32m    278\u001b[0m \u001b[0;34m\u001b[0m\u001b[0m\n\u001b[1;32m    279\u001b[0m     \u001b[0;32mdef\u001b[0m \u001b[0m_read_status\u001b[0m\u001b[0;34m(\u001b[0m\u001b[0mself\u001b[0m\u001b[0;34m)\u001b[0m\u001b[0;34m:\u001b[0m\u001b[0;34m\u001b[0m\u001b[0;34m\u001b[0m\u001b[0m\n\u001b[0;32m--> 280\u001b[0;31m         \u001b[0mline\u001b[0m \u001b[0;34m=\u001b[0m \u001b[0mstr\u001b[0m\u001b[0;34m(\u001b[0m\u001b[0mself\u001b[0m\u001b[0;34m.\u001b[0m\u001b[0mfp\u001b[0m\u001b[0;34m.\u001b[0m\u001b[0mreadline\u001b[0m\u001b[0;34m(\u001b[0m\u001b[0m_MAXLINE\u001b[0m \u001b[0;34m+\u001b[0m \u001b[0;36m1\u001b[0m\u001b[0;34m)\u001b[0m\u001b[0;34m,\u001b[0m \u001b[0;34m\"iso-8859-1\"\u001b[0m\u001b[0;34m)\u001b[0m\u001b[0;34m\u001b[0m\u001b[0;34m\u001b[0m\u001b[0m\n\u001b[0m\u001b[1;32m    281\u001b[0m         \u001b[0;32mif\u001b[0m \u001b[0mlen\u001b[0m\u001b[0;34m(\u001b[0m\u001b[0mline\u001b[0m\u001b[0;34m)\u001b[0m \u001b[0;34m>\u001b[0m \u001b[0m_MAXLINE\u001b[0m\u001b[0;34m:\u001b[0m\u001b[0;34m\u001b[0m\u001b[0;34m\u001b[0m\u001b[0m\n\u001b[1;32m    282\u001b[0m             \u001b[0;32mraise\u001b[0m \u001b[0mLineTooLong\u001b[0m\u001b[0;34m(\u001b[0m\u001b[0;34m\"status line\"\u001b[0m\u001b[0;34m)\u001b[0m\u001b[0;34m\u001b[0m\u001b[0;34m\u001b[0m\u001b[0m\n",
            "\u001b[0;32m/usr/lib/python3.7/socket.py\u001b[0m in \u001b[0;36mreadinto\u001b[0;34m(self, b)\u001b[0m\n\u001b[1;32m    587\u001b[0m         \u001b[0;32mwhile\u001b[0m \u001b[0;32mTrue\u001b[0m\u001b[0;34m:\u001b[0m\u001b[0;34m\u001b[0m\u001b[0;34m\u001b[0m\u001b[0m\n\u001b[1;32m    588\u001b[0m             \u001b[0;32mtry\u001b[0m\u001b[0;34m:\u001b[0m\u001b[0;34m\u001b[0m\u001b[0;34m\u001b[0m\u001b[0m\n\u001b[0;32m--> 589\u001b[0;31m                 \u001b[0;32mreturn\u001b[0m \u001b[0mself\u001b[0m\u001b[0;34m.\u001b[0m\u001b[0m_sock\u001b[0m\u001b[0;34m.\u001b[0m\u001b[0mrecv_into\u001b[0m\u001b[0;34m(\u001b[0m\u001b[0mb\u001b[0m\u001b[0;34m)\u001b[0m\u001b[0;34m\u001b[0m\u001b[0;34m\u001b[0m\u001b[0m\n\u001b[0m\u001b[1;32m    590\u001b[0m             \u001b[0;32mexcept\u001b[0m \u001b[0mtimeout\u001b[0m\u001b[0;34m:\u001b[0m\u001b[0;34m\u001b[0m\u001b[0;34m\u001b[0m\u001b[0m\n\u001b[1;32m    591\u001b[0m                 \u001b[0mself\u001b[0m\u001b[0;34m.\u001b[0m\u001b[0m_timeout_occurred\u001b[0m \u001b[0;34m=\u001b[0m \u001b[0;32mTrue\u001b[0m\u001b[0;34m\u001b[0m\u001b[0;34m\u001b[0m\u001b[0m\n",
            "\u001b[0;32m/usr/lib/python3.7/ssl.py\u001b[0m in \u001b[0;36mrecv_into\u001b[0;34m(self, buffer, nbytes, flags)\u001b[0m\n\u001b[1;32m   1069\u001b[0m                   \u001b[0;34m\"non-zero flags not allowed in calls to recv_into() on %s\"\u001b[0m \u001b[0;34m%\u001b[0m\u001b[0;34m\u001b[0m\u001b[0;34m\u001b[0m\u001b[0m\n\u001b[1;32m   1070\u001b[0m                   self.__class__)\n\u001b[0;32m-> 1071\u001b[0;31m             \u001b[0;32mreturn\u001b[0m \u001b[0mself\u001b[0m\u001b[0;34m.\u001b[0m\u001b[0mread\u001b[0m\u001b[0;34m(\u001b[0m\u001b[0mnbytes\u001b[0m\u001b[0;34m,\u001b[0m \u001b[0mbuffer\u001b[0m\u001b[0;34m)\u001b[0m\u001b[0;34m\u001b[0m\u001b[0;34m\u001b[0m\u001b[0m\n\u001b[0m\u001b[1;32m   1072\u001b[0m         \u001b[0;32melse\u001b[0m\u001b[0;34m:\u001b[0m\u001b[0;34m\u001b[0m\u001b[0;34m\u001b[0m\u001b[0m\n\u001b[1;32m   1073\u001b[0m             \u001b[0;32mreturn\u001b[0m \u001b[0msuper\u001b[0m\u001b[0;34m(\u001b[0m\u001b[0;34m)\u001b[0m\u001b[0;34m.\u001b[0m\u001b[0mrecv_into\u001b[0m\u001b[0;34m(\u001b[0m\u001b[0mbuffer\u001b[0m\u001b[0;34m,\u001b[0m \u001b[0mnbytes\u001b[0m\u001b[0;34m,\u001b[0m \u001b[0mflags\u001b[0m\u001b[0;34m)\u001b[0m\u001b[0;34m\u001b[0m\u001b[0;34m\u001b[0m\u001b[0m\n",
            "\u001b[0;32m/usr/lib/python3.7/ssl.py\u001b[0m in \u001b[0;36mread\u001b[0;34m(self, len, buffer)\u001b[0m\n\u001b[1;32m    927\u001b[0m         \u001b[0;32mtry\u001b[0m\u001b[0;34m:\u001b[0m\u001b[0;34m\u001b[0m\u001b[0;34m\u001b[0m\u001b[0m\n\u001b[1;32m    928\u001b[0m             \u001b[0;32mif\u001b[0m \u001b[0mbuffer\u001b[0m \u001b[0;32mis\u001b[0m \u001b[0;32mnot\u001b[0m \u001b[0;32mNone\u001b[0m\u001b[0;34m:\u001b[0m\u001b[0;34m\u001b[0m\u001b[0;34m\u001b[0m\u001b[0m\n\u001b[0;32m--> 929\u001b[0;31m                 \u001b[0;32mreturn\u001b[0m \u001b[0mself\u001b[0m\u001b[0;34m.\u001b[0m\u001b[0m_sslobj\u001b[0m\u001b[0;34m.\u001b[0m\u001b[0mread\u001b[0m\u001b[0;34m(\u001b[0m\u001b[0mlen\u001b[0m\u001b[0;34m,\u001b[0m \u001b[0mbuffer\u001b[0m\u001b[0;34m)\u001b[0m\u001b[0;34m\u001b[0m\u001b[0;34m\u001b[0m\u001b[0m\n\u001b[0m\u001b[1;32m    930\u001b[0m             \u001b[0;32melse\u001b[0m\u001b[0;34m:\u001b[0m\u001b[0;34m\u001b[0m\u001b[0;34m\u001b[0m\u001b[0m\n\u001b[1;32m    931\u001b[0m                 \u001b[0;32mreturn\u001b[0m \u001b[0mself\u001b[0m\u001b[0;34m.\u001b[0m\u001b[0m_sslobj\u001b[0m\u001b[0;34m.\u001b[0m\u001b[0mread\u001b[0m\u001b[0;34m(\u001b[0m\u001b[0mlen\u001b[0m\u001b[0;34m)\u001b[0m\u001b[0;34m\u001b[0m\u001b[0;34m\u001b[0m\u001b[0m\n",
            "\u001b[0;31mKeyboardInterrupt\u001b[0m: "
          ]
        }
      ]
    },
    {
      "cell_type": "code",
      "source": [
        "def errorsend_msg(msg_dict):\n",
        "  response= ['Opps Something went wrong! Try Again Later','I am unable to handle this request at the moment. Please try again','Arre! mai padh nhi paya msg. Phir se try kro']\n",
        "  msg_dict['text']=random.choice(response)\n",
        "  send_msg(msg_dict)"
      ],
      "metadata": {
        "id": "te8kBu8LSJzh"
      },
      "execution_count": null,
      "outputs": []
    },
    {
      "cell_type": "code",
      "source": [
        "print(msg_dict.keys())"
      ],
      "metadata": {
        "colab": {
          "base_uri": "https://localhost:8080/"
        },
        "id": "Sk_YCyCsdApW",
        "outputId": "5e914c0a-7b99-4854-de9a-ab041b3dac9a"
      },
      "execution_count": null,
      "outputs": [
        {
          "output_type": "stream",
          "name": "stdout",
          "text": [
            "dict_keys(['update_id', 'message_id', 'user_id', 'is_bot', 'first_name', 'last_name', 'username', 'Type', 'chat_id', 'text'])\n"
          ]
        }
      ]
    },
    {
      "cell_type": "markdown",
      "source": [
        "#Message Extraction"
      ],
      "metadata": {
        "id": "iF4eDtJA12Qm"
      }
    },
    {
      "cell_type": "markdown",
      "source": [
        "Types of updates"
      ],
      "metadata": {
        "id": "DkD8bznGkBxk"
      }
    },
    {
      "cell_type": "code",
      "source": [
        "true,false = True, False\n",
        "textmsg = {\"ok\":True,\"result\":[{\"update_id\":784222005,\"message\":{\"message_id\":215,\"from\":{\"id\":1422299869,\"is_bot\":False,\"first_name\":\"Avinash\",\"last_name\":\"Shrivastava\",\"username\":\"avishrivastava\",\"language_code\":\"en\"},\"chat\":{\"id\":1422299869,\"first_name\":\"Avinash\",\"last_name\":\"Shrivastava\",\"username\":\"avishrivastava\",\"type\":\"private\"},\"date\":1666846529,\"text\":\"Hi\"}}]}\n",
        "sticker = {\"ok\":True,\"result\":[{\"update_id\":784222007,\"message\":{\"message_id\":217,\"from\":{\"id\":1422299869,\"is_bot\":false,\"first_name\":\"Avinash\",\"last_name\":\"Shrivastava\",\"username\":\"avishrivastava\",\"language_code\":\"en\"},\"chat\":{\"id\":1422299869,\"first_name\":\"Avinash\",\"last_name\":\"Shrivastava\",\"username\":\"avishrivastava\",\"type\":\"private\"},\"date\":1666846644,\"sticker\":{\"width\":512,\"height\":512,\"emoji\":\"\\ud83d\\ude02\",\"set_name\":\"HarryGorilla\",\"is_animated\":true,\"is_video\":false,\"type\":\"regular\",\"thumb\":{\"file_id\":\"AAMCAgADGQEAA9ljWg-0K6YxddgTZWaaudJ0jD6rtwACDwMAAm2wQgMOtExku51dRgEAB20AAyoE\",\"file_unique_id\":\"AQADDwMAAm2wQgNy\",\"file_size\":4174,\"width\":128,\"height\":128},\"file_id\":\"CAACAgIAAxkBAAPZY1oPtCumMXXYE2VmmrnSdIw-q7cAAg8DAAJtsEIDDrRMZLudXUYqBA\",\"file_unique_id\":\"AgADDwMAAm2wQgM\",\"file_size\":7740}}}]}\n",
        "audio = {\"ok\":True,\"result\":[{\"update_id\":784222009,\"message\":{\"message_id\":219,\"from\":{\"id\":1422299869,\"is_bot\":false,\"first_name\":\"Avinash\",\"last_name\":\"Shrivastava\",\"username\":\"avishrivastava\",\"language_code\":\"en\"},\"chat\":{\"id\":1422299869,\"first_name\":\"Avinash\",\"last_name\":\"Shrivastava\",\"username\":\"avishrivastava\",\"type\":\"private\"},\"date\":1666846929,\"voice\":{\"duration\":1,\"mime_type\":\"audio/ogg\",\"file_id\":\"AwACAgUAAxkBAAPbY1oQ0W_zRXE6FvwEoRDCrWD5na8AAkQGAAItKtFWvXUngJon5GMqBA\",\"file_unique_id\":\"AgADRAYAAi0q0VY\",\"file_size\":26385}}}]}\n",
        "photo = {\"ok\":True,\"result\":[{\"update_id\":784222010,\"message\":{\"message_id\":220,\"from\":{\"id\":1422299869,\"is_bot\":false,\"first_name\":\"Avinash\",\"last_name\":\"Shrivastava\",\"username\":\"avishrivastava\",\"language_code\":\"en\"},\"chat\":{\"id\":1422299869,\"first_name\":\"Avinash\",\"last_name\":\"Shrivastava\",\"username\":\"avishrivastava\",\"type\":\"private\"},\"date\":1666846943,\"photo\":[{\"file_id\":\"AgACAgUAAxkBAAPcY1oQ3gPZtZAYcSi72PpdIO8QfocAAgawMRstKtFWEdC58318mj0BAAMCAANzAAMqBA\",\"file_unique_id\":\"AQADBrAxGy0q0VZ4\",\"file_size\":1465,\"width\":90,\"height\":67},{\"file_id\":\"AgACAgUAAxkBAAPcY1oQ3gPZtZAYcSi72PpdIO8QfocAAgawMRstKtFWEdC58318mj0BAAMCAANtAAMqBA\",\"file_unique_id\":\"AQADBrAxGy0q0VZy\",\"file_size\":21095,\"width\":320,\"height\":240},{\"file_id\":\"AgACAgUAAxkBAAPcY1oQ3gPZtZAYcSi72PpdIO8QfocAAgawMRstKtFWEdC58318mj0BAAMCAAN4AAMqBA\",\"file_unique_id\":\"AQADBrAxGy0q0VZ9\",\"file_size\":90698,\"width\":800,\"height\":600},{\"file_id\":\"AgACAgUAAxkBAAPcY1oQ3gPZtZAYcSi72PpdIO8QfocAAgawMRstKtFWEdC58318mj0BAAMCAAN5AAMqBA\",\"file_unique_id\":\"AQADBrAxGy0q0VZ-\",\"file_size\":168056,\"width\":1280,\"height\":960}]}}]}\n",
        "video = {\"ok\":True,\"result\":[{\"update_id\":784222011,\"message\":{\"message_id\":221,\"from\":{\"id\":1422299869,\"is_bot\":false,\"first_name\":\"Avinash\",\"last_name\":\"Shrivastava\",\"username\":\"avishrivastava\",\"language_code\":\"en\"},\"chat\":{\"id\":1422299869,\"first_name\":\"Avinash\",\"last_name\":\"Shrivastava\",\"username\":\"avishrivastava\",\"type\":\"private\"},\"date\":1666846959,\"video\":{\"duration\":6,\"width\":576,\"height\":1280,\"mime_type\":\"video/mp4\",\"thumb\":{\"file_id\":\"AAMCBQADGQEAA91jWhDvkYjqd8aXLmqYl0_MqKZCCwACRQYAAi0q0VblPaxU2lbWowEAB20AAyoE\",\"file_unique_id\":\"AQADRQYAAi0q0VZy\",\"file_size\":10887,\"width\":144,\"height\":320},\"file_id\":\"BAACAgUAAxkBAAPdY1oQ75GI6nfGly5qmJdPzKimQgsAAkUGAAItKtFW5T2sVNpW1qMqBA\",\"file_unique_id\":\"AgADRQYAAi0q0VY\",\"file_size\":1085243}}}]}\n",
        "audiowithcaption = {\"ok\":True,\"result\":[{\"update_id\":784222012,\"edited_message\":{\"message_id\":219,\"from\":{\"id\":1422299869,\"is_bot\":false,\"first_name\":\"Avinash\",\"last_name\":\"Shrivastava\",\"username\":\"avishrivastava\",\"language_code\":\"en\"},\"chat\":{\"id\":1422299869,\"first_name\":\"Avinash\",\"last_name\":\"Shrivastava\",\"username\":\"avishrivastava\",\"type\":\"private\"},\"date\":1666846929,\"edit_date\":1666846960,\"voice\":{\"duration\":1,\"mime_type\":\"audio/ogg\",\"file_id\":\"AwACAgUAAxkBAAPbY1oQ8Cal19Xz3y63sNChM4Ct7XYAAkQGAAItKtFWvXUngJon5GMqBA\",\"file_unique_id\":\"AgADRAYAAi0q0VY\",\"file_size\":26385},\"caption\":\"Hrhreh\"}}]}\n",
        "grouptext = {\"ok\":True,\"result\":[{\"update_id\":784222014,\"message\":{\"message_id\":347,\"from\":{\"id\":1422299869,\"is_bot\":false,\"first_name\":\"Avinash\",\"last_name\":\"Shrivastava\",\"username\":\"avishrivastava\",\"language_code\":\"en\"},\"chat\":{\"id\":-1001763475425,\"title\":\"IITM Buddies\",\"type\":\"supergroup\"},\"date\":1666859008,\"text\":\"Hey\"}}]}\n",
        "groupnameedit = {\"ok\":True,\"result\":[{\"update_id\":784222015,\"message\":{\"message_id\":348,\"from\":{\"id\":1422299869,\"is_bot\":false,\"first_name\":\"Avinash\",\"last_name\":\"Shrivastava\",\"username\":\"avishrivastava\",\"language_code\":\"en\"},\"chat\":{\"id\":-1001763475425,\"title\":\"IITM Buddy\",\"type\":\"supergroup\"},\"date\":1666859030,\"new_chat_title\":\"IITM Buddy\"}}]}\n",
        "poll = {\"ok\":True,\"result\":[{\"update_id\":784222017,\"message\":{\"message_id\":349,\"from\":{\"id\":1422299869,\"is_bot\":false,\"first_name\":\"Avinash\",\"last_name\":\"Shrivastava\",\"username\":\"avishrivastava\",\"language_code\":\"en\"},\"chat\":{\"id\":-1001763475425,\"title\":\"IITM Buddy\",\"type\":\"supergroup\"},\"date\":1666859103,\"poll\":{\"id\":\"1\",\"question\":\"Shsjhd\",\"options\":[{\"text\":\"Djfh\",\"voter_count\":0},{\"text\":\"J4rrj\",\"voter_count\":0}],\"total_voter_count\":0,\"is_closed\":false,\"is_anonymous\":true,\"type\":\"regular\",\"allows_multiple_answers\":false}}},{\"update_id\":784222017,\"message\":{\"message_id\":349,\"from\":{\"id\":1422299869,\"is_bot\":false,\"first_name\":\"Avinash\",\"last_name\":\"Shrivastava\",\"username\":\"avishrivastava\",\"language_code\":\"en\"},\"chat\":{\"id\":-1001763475425,\"title\":\"IITM Buddy\",\"type\":\"supergroup\"},\"date\":1666859103,\"poll\":{\"id\":\"2\",\"question\":\"Shsjhd\",\"options\":[{\"text\":\"Djfh\",\"voter_count\":0},{\"text\":\"J4rrj\",\"voter_count\":0}],\"total_voter_count\":0,\"is_closed\":false,\"is_anonymous\":true,\"type\":\"regular\",\"allows_multiple_answers\":false}}}]}\n",
        "# groupnameedit = {\"ok\":True,\"result\":[]}\n",
        "# groupnameedit = {\"ok\":True,\"result\":[]}"
      ],
      "metadata": {
        "id": "xNdFnFgNkBY3"
      },
      "execution_count": null,
      "outputs": []
    },
    {
      "cell_type": "markdown",
      "source": [
        "Task 2: Senders Details"
      ],
      "metadata": {
        "id": "kNeurlao9jZM"
      }
    },
    {
      "cell_type": "code",
      "source": [
        "def sender_detail(response):\n",
        "  msg_data={}\n",
        "  datacat = list(response['result'])\n",
        "  for i in range(len(datacat)):\n",
        "    msgType = list(datacat[i].keys())[-1]\n",
        "    iterate = datacat[i][msgType]['from']\n",
        "    return iterate\n",
        "sender_detail(poll)"
      ],
      "metadata": {
        "colab": {
          "base_uri": "https://localhost:8080/"
        },
        "id": "CBQIDs4W9oSu",
        "outputId": "30e5d5ce-4572-4783-8b20-fca2ca55dc93"
      },
      "execution_count": null,
      "outputs": [
        {
          "output_type": "execute_result",
          "data": {
            "text/plain": [
              "{'id': 1422299869,\n",
              " 'is_bot': False,\n",
              " 'first_name': 'Avinash',\n",
              " 'last_name': 'Shrivastava',\n",
              " 'username': 'avishrivastava',\n",
              " 'language_code': 'en'}"
            ]
          },
          "metadata": {},
          "execution_count": 56
        }
      ]
    },
    {
      "cell_type": "code",
      "source": [
        "def chat_detail(response):\n",
        "  msg_data={}\n",
        "  datacat = list(response['result'])\n",
        "  for i in range(len(datacat)):\n",
        "    msgType = list(datacat[i].keys())[-1]\n",
        "    iterate = datacat[i][msgType]['chat']\n",
        "    return iterate\n",
        "chat_detail(poll)"
      ],
      "metadata": {
        "colab": {
          "base_uri": "https://localhost:8080/"
        },
        "id": "nAu-TnqTUoA9",
        "outputId": "ffe6eb38-a881-4c18-fbc6-a3dbf1d2a968"
      },
      "execution_count": null,
      "outputs": [
        {
          "output_type": "execute_result",
          "data": {
            "text/plain": [
              "{'id': -1001763475425, 'title': 'IITM Buddy', 'type': 'supergroup'}"
            ]
          },
          "metadata": {},
          "execution_count": 57
        }
      ]
    },
    {
      "cell_type": "markdown",
      "source": [
        "Task 1: Identify the type of update  and return the update in a dictionary.\n",
        "\n",
        "\n",
        "```\n",
        "# Presently it recognises:\n",
        "*   Text Message (regardless of edited or not)\n",
        "*   Video\n",
        "*   Audio\n",
        "*   Emoji\n",
        "*   Stickers\n",
        "*   Some Basic updates regarding groups\n",
        "\n",
        "```\n",
        "It works regardless of the messages are sent in bulk\n"
      ],
      "metadata": {
        "id": "pN3BSjbC3erh"
      }
    },
    {
      "cell_type": "code",
      "source": [
        "def extract_update(response):\n",
        "  msg_data={}\n",
        "  datacat = list(response['result'])\n",
        "  for i in range(len(datacat)):\n",
        "    msgType = list(datacat[i].keys())[-1]\n",
        "    iterate = list(datacat[i][msgType].keys())\n",
        "    for keys in iterate:\n",
        "      if 'caption' in iterate:\n",
        "        update_type = iterate[-2]\n",
        "        caption = iterate[-1]\n",
        "        msg_data[update_type]= datacat[i][msgType][update_type]\n",
        "        msg_data[caption]= datacat[i][msgType][caption]\n",
        "      else:\n",
        "        update_type = iterate[-1]\n",
        "        msg_data[update_type]= datacat[i][msgType][update_type]\n",
        "        \n",
        "  return {'updateType':list(msg_data), 'update': [msg_data]}\n",
        "\n",
        "extract_update(poll)"
      ],
      "metadata": {
        "colab": {
          "base_uri": "https://localhost:8080/"
        },
        "id": "J8GzUZSh19To",
        "outputId": "f24e5698-640f-4423-c641-e18be097e01d"
      },
      "execution_count": null,
      "outputs": [
        {
          "output_type": "execute_result",
          "data": {
            "text/plain": [
              "{'updateType': ['poll'],\n",
              " 'update': [{'poll': {'id': '2',\n",
              "    'question': 'Shsjhd',\n",
              "    'options': [{'text': 'Djfh', 'voter_count': 0},\n",
              "     {'text': 'J4rrj', 'voter_count': 0}],\n",
              "    'total_voter_count': 0,\n",
              "    'is_closed': False,\n",
              "    'is_anonymous': True,\n",
              "    'type': 'regular',\n",
              "    'allows_multiple_answers': False}}]}"
            ]
          },
          "metadata": {},
          "execution_count": 20
        }
      ]
    },
    {
      "cell_type": "markdown",
      "source": [
        "For Testing"
      ],
      "metadata": {
        "id": "SZ3aPV7B9GEb"
      }
    },
    {
      "cell_type": "code",
      "source": [
        "#Only for Testing\n",
        "def read_msg(base_url,offset):\n",
        "  method =  'getUpdates'\n",
        "  param = {\n",
        "      'offset': offset,\n",
        "      'allowed_updates' : ['message','edited_message']\n",
        "  }\n",
        "  response = requests.get(base_url+'/'+ method,params=param).json()\n",
        "  print(response)\n",
        "  if response['result'] != []:\n",
        "    send_msg2(response)\n",
        "\n",
        "\n",
        "\n",
        "  if response[\"result\"]:\n",
        "    return response[\"result\"][-1][\"update_id\"] + 1 \n",
        "\n",
        "offset = 0\n",
        "while True:\n",
        "  offset = read_msg(base_url,offset)"
      ],
      "metadata": {
        "id": "nYIpOhVLZh44",
        "colab": {
          "base_uri": "https://localhost:8080/",
          "height": 748
        },
        "outputId": "3cde4776-17b6-4b3c-cbc7-08c3efadfa19"
      },
      "execution_count": null,
      "outputs": [
        {
          "output_type": "stream",
          "name": "stdout",
          "text": [
            "{'ok': True, 'result': [{'update_id': 784222058, 'message': {'message_id': 255, 'from': {'id': 1422299869, 'is_bot': False, 'first_name': 'Avinash', 'last_name': 'Shrivastava', 'username': 'avishrivastava', 'language_code': 'en'}, 'chat': {'id': 1422299869, 'first_name': 'Avinash', 'last_name': 'Shrivastava', 'username': 'avishrivastava', 'type': 'private'}, 'date': 1666987080, 'text': 'jhcgfcv'}}]}\n",
            "{'ok': True, 'result': {'message_id': 257, 'from': {'id': 5734867559, 'is_bot': True, 'first_name': 'TelegramTest', 'username': 'PAofAvibot'}, 'chat': {'id': 1422299869, 'first_name': 'Avinash', 'last_name': 'Shrivastava', 'username': 'avishrivastava', 'type': 'private'}, 'date': 1666987301, 'text': 'hey'}}\n",
            "{'ok': True, 'result': []}\n",
            "{'ok': True, 'result': []}\n",
            "{'ok': True, 'result': [{'update_id': 784222059, 'message': {'message_id': 258, 'from': {'id': 1422299869, 'is_bot': False, 'first_name': 'Avinash', 'last_name': 'Shrivastava', 'username': 'avishrivastava', 'language_code': 'en'}, 'chat': {'id': 1422299869, 'first_name': 'Avinash', 'last_name': 'Shrivastava', 'username': 'avishrivastava', 'type': 'private'}, 'date': 1666987312, 'text': 'sazdxfcgvhbjnkml'}}]}\n",
            "{'ok': True, 'result': {'message_id': 259, 'from': {'id': 5734867559, 'is_bot': True, 'first_name': 'TelegramTest', 'username': 'PAofAvibot'}, 'chat': {'id': 1422299869, 'first_name': 'Avinash', 'last_name': 'Shrivastava', 'username': 'avishrivastava', 'type': 'private'}, 'date': 1666987313, 'text': 'hey'}}\n",
            "{'ok': True, 'result': []}\n",
            "{'ok': True, 'result': []}\n",
            "{'ok': True, 'result': []}\n",
            "{'ok': True, 'result': []}\n",
            "{'ok': True, 'result': [{'update_id': 784222060, 'message': {'message_id': 260, 'from': {'id': 1422299869, 'is_bot': False, 'first_name': 'Avinash', 'last_name': 'Shrivastava', 'username': 'avishrivastava', 'language_code': 'en'}, 'chat': {'id': 1422299869, 'first_name': 'Avinash', 'last_name': 'Shrivastava', 'username': 'avishrivastava', 'type': 'private'}, 'date': 1666987326, 'text': 'hjkl;kjhgf'}}]}\n",
            "{'ok': True, 'result': {'message_id': 261, 'from': {'id': 5734867559, 'is_bot': True, 'first_name': 'TelegramTest', 'username': 'PAofAvibot'}, 'chat': {'id': 1422299869, 'first_name': 'Avinash', 'last_name': 'Shrivastava', 'username': 'avishrivastava', 'type': 'private'}, 'date': 1666987327, 'text': 'hey'}}\n",
            "{'ok': True, 'result': []}\n",
            "{'ok': True, 'result': []}\n",
            "{'ok': True, 'result': []}\n",
            "{'ok': True, 'result': []}\n"
          ]
        },
        {
          "output_type": "error",
          "ename": "KeyboardInterrupt",
          "evalue": "ignored",
          "traceback": [
            "\u001b[0;31m---------------------------------------------------------------------------\u001b[0m",
            "\u001b[0;31mTypeError\u001b[0m                                 Traceback (most recent call last)",
            "\u001b[0;32m/usr/local/lib/python3.7/dist-packages/urllib3/connectionpool.py\u001b[0m in \u001b[0;36m_make_request\u001b[0;34m(self, conn, method, url, timeout, chunked, **httplib_request_kw)\u001b[0m\n\u001b[1;32m    376\u001b[0m             \u001b[0;32mtry\u001b[0m\u001b[0;34m:\u001b[0m  \u001b[0;31m# Python 2.7, use buffering of HTTP responses\u001b[0m\u001b[0;34m\u001b[0m\u001b[0;34m\u001b[0m\u001b[0m\n\u001b[0;32m--> 377\u001b[0;31m                 \u001b[0mhttplib_response\u001b[0m \u001b[0;34m=\u001b[0m \u001b[0mconn\u001b[0m\u001b[0;34m.\u001b[0m\u001b[0mgetresponse\u001b[0m\u001b[0;34m(\u001b[0m\u001b[0mbuffering\u001b[0m\u001b[0;34m=\u001b[0m\u001b[0;32mTrue\u001b[0m\u001b[0;34m)\u001b[0m\u001b[0;34m\u001b[0m\u001b[0;34m\u001b[0m\u001b[0m\n\u001b[0m\u001b[1;32m    378\u001b[0m             \u001b[0;32mexcept\u001b[0m \u001b[0mTypeError\u001b[0m\u001b[0;34m:\u001b[0m  \u001b[0;31m# Python 3\u001b[0m\u001b[0;34m\u001b[0m\u001b[0;34m\u001b[0m\u001b[0m\n",
            "\u001b[0;31mTypeError\u001b[0m: getresponse() got an unexpected keyword argument 'buffering'",
            "\nDuring handling of the above exception, another exception occurred:\n",
            "\u001b[0;31mKeyboardInterrupt\u001b[0m                         Traceback (most recent call last)",
            "\u001b[0;32m<ipython-input-47-868828d383fc>\u001b[0m in \u001b[0;36m<module>\u001b[0;34m\u001b[0m\n\u001b[1;32m     18\u001b[0m \u001b[0moffset\u001b[0m \u001b[0;34m=\u001b[0m \u001b[0;36m0\u001b[0m\u001b[0;34m\u001b[0m\u001b[0;34m\u001b[0m\u001b[0m\n\u001b[1;32m     19\u001b[0m \u001b[0;32mwhile\u001b[0m \u001b[0;32mTrue\u001b[0m\u001b[0;34m:\u001b[0m\u001b[0;34m\u001b[0m\u001b[0;34m\u001b[0m\u001b[0m\n\u001b[0;32m---> 20\u001b[0;31m   \u001b[0moffset\u001b[0m \u001b[0;34m=\u001b[0m \u001b[0mread_msg\u001b[0m\u001b[0;34m(\u001b[0m\u001b[0mbase_url\u001b[0m\u001b[0;34m,\u001b[0m\u001b[0moffset\u001b[0m\u001b[0;34m)\u001b[0m\u001b[0;34m\u001b[0m\u001b[0;34m\u001b[0m\u001b[0m\n\u001b[0m",
            "\u001b[0;32m<ipython-input-47-868828d383fc>\u001b[0m in \u001b[0;36mread_msg\u001b[0;34m(base_url, offset)\u001b[0m\n\u001b[1;32m      6\u001b[0m       \u001b[0;34m'allowed_updates'\u001b[0m \u001b[0;34m:\u001b[0m \u001b[0;34m[\u001b[0m\u001b[0;34m'message'\u001b[0m\u001b[0;34m,\u001b[0m\u001b[0;34m'edited_message'\u001b[0m\u001b[0;34m]\u001b[0m\u001b[0;34m\u001b[0m\u001b[0;34m\u001b[0m\u001b[0m\n\u001b[1;32m      7\u001b[0m   }\n\u001b[0;32m----> 8\u001b[0;31m   \u001b[0mresponse\u001b[0m \u001b[0;34m=\u001b[0m \u001b[0mrequests\u001b[0m\u001b[0;34m.\u001b[0m\u001b[0mget\u001b[0m\u001b[0;34m(\u001b[0m\u001b[0mbase_url\u001b[0m\u001b[0;34m+\u001b[0m\u001b[0;34m'/'\u001b[0m\u001b[0;34m+\u001b[0m \u001b[0mmethod\u001b[0m\u001b[0;34m,\u001b[0m\u001b[0mparams\u001b[0m\u001b[0;34m=\u001b[0m\u001b[0mparam\u001b[0m\u001b[0;34m)\u001b[0m\u001b[0;34m.\u001b[0m\u001b[0mjson\u001b[0m\u001b[0;34m(\u001b[0m\u001b[0;34m)\u001b[0m\u001b[0;34m\u001b[0m\u001b[0;34m\u001b[0m\u001b[0m\n\u001b[0m\u001b[1;32m      9\u001b[0m   \u001b[0mprint\u001b[0m\u001b[0;34m(\u001b[0m\u001b[0mresponse\u001b[0m\u001b[0;34m)\u001b[0m\u001b[0;34m\u001b[0m\u001b[0;34m\u001b[0m\u001b[0m\n\u001b[1;32m     10\u001b[0m   \u001b[0;32mif\u001b[0m \u001b[0mresponse\u001b[0m\u001b[0;34m[\u001b[0m\u001b[0;34m'result'\u001b[0m\u001b[0;34m]\u001b[0m \u001b[0;34m!=\u001b[0m \u001b[0;34m[\u001b[0m\u001b[0;34m]\u001b[0m\u001b[0;34m:\u001b[0m\u001b[0;34m\u001b[0m\u001b[0;34m\u001b[0m\u001b[0m\n",
            "\u001b[0;32m/usr/local/lib/python3.7/dist-packages/requests/api.py\u001b[0m in \u001b[0;36mget\u001b[0;34m(url, params, **kwargs)\u001b[0m\n\u001b[1;32m     74\u001b[0m \u001b[0;34m\u001b[0m\u001b[0m\n\u001b[1;32m     75\u001b[0m     \u001b[0mkwargs\u001b[0m\u001b[0;34m.\u001b[0m\u001b[0msetdefault\u001b[0m\u001b[0;34m(\u001b[0m\u001b[0;34m'allow_redirects'\u001b[0m\u001b[0;34m,\u001b[0m \u001b[0;32mTrue\u001b[0m\u001b[0;34m)\u001b[0m\u001b[0;34m\u001b[0m\u001b[0;34m\u001b[0m\u001b[0m\n\u001b[0;32m---> 76\u001b[0;31m     \u001b[0;32mreturn\u001b[0m \u001b[0mrequest\u001b[0m\u001b[0;34m(\u001b[0m\u001b[0;34m'get'\u001b[0m\u001b[0;34m,\u001b[0m \u001b[0murl\u001b[0m\u001b[0;34m,\u001b[0m \u001b[0mparams\u001b[0m\u001b[0;34m=\u001b[0m\u001b[0mparams\u001b[0m\u001b[0;34m,\u001b[0m \u001b[0;34m**\u001b[0m\u001b[0mkwargs\u001b[0m\u001b[0;34m)\u001b[0m\u001b[0;34m\u001b[0m\u001b[0;34m\u001b[0m\u001b[0m\n\u001b[0m\u001b[1;32m     77\u001b[0m \u001b[0;34m\u001b[0m\u001b[0m\n\u001b[1;32m     78\u001b[0m \u001b[0;34m\u001b[0m\u001b[0m\n",
            "\u001b[0;32m/usr/local/lib/python3.7/dist-packages/requests/api.py\u001b[0m in \u001b[0;36mrequest\u001b[0;34m(method, url, **kwargs)\u001b[0m\n\u001b[1;32m     59\u001b[0m     \u001b[0;31m# cases, and look like a memory leak in others.\u001b[0m\u001b[0;34m\u001b[0m\u001b[0;34m\u001b[0m\u001b[0;34m\u001b[0m\u001b[0m\n\u001b[1;32m     60\u001b[0m     \u001b[0;32mwith\u001b[0m \u001b[0msessions\u001b[0m\u001b[0;34m.\u001b[0m\u001b[0mSession\u001b[0m\u001b[0;34m(\u001b[0m\u001b[0;34m)\u001b[0m \u001b[0;32mas\u001b[0m \u001b[0msession\u001b[0m\u001b[0;34m:\u001b[0m\u001b[0;34m\u001b[0m\u001b[0;34m\u001b[0m\u001b[0m\n\u001b[0;32m---> 61\u001b[0;31m         \u001b[0;32mreturn\u001b[0m \u001b[0msession\u001b[0m\u001b[0;34m.\u001b[0m\u001b[0mrequest\u001b[0m\u001b[0;34m(\u001b[0m\u001b[0mmethod\u001b[0m\u001b[0;34m=\u001b[0m\u001b[0mmethod\u001b[0m\u001b[0;34m,\u001b[0m \u001b[0murl\u001b[0m\u001b[0;34m=\u001b[0m\u001b[0murl\u001b[0m\u001b[0;34m,\u001b[0m \u001b[0;34m**\u001b[0m\u001b[0mkwargs\u001b[0m\u001b[0;34m)\u001b[0m\u001b[0;34m\u001b[0m\u001b[0;34m\u001b[0m\u001b[0m\n\u001b[0m\u001b[1;32m     62\u001b[0m \u001b[0;34m\u001b[0m\u001b[0m\n\u001b[1;32m     63\u001b[0m \u001b[0;34m\u001b[0m\u001b[0m\n",
            "\u001b[0;32m/usr/local/lib/python3.7/dist-packages/requests/sessions.py\u001b[0m in \u001b[0;36mrequest\u001b[0;34m(self, method, url, params, data, headers, cookies, files, auth, timeout, allow_redirects, proxies, hooks, stream, verify, cert, json)\u001b[0m\n\u001b[1;32m    528\u001b[0m         }\n\u001b[1;32m    529\u001b[0m         \u001b[0msend_kwargs\u001b[0m\u001b[0;34m.\u001b[0m\u001b[0mupdate\u001b[0m\u001b[0;34m(\u001b[0m\u001b[0msettings\u001b[0m\u001b[0;34m)\u001b[0m\u001b[0;34m\u001b[0m\u001b[0;34m\u001b[0m\u001b[0m\n\u001b[0;32m--> 530\u001b[0;31m         \u001b[0mresp\u001b[0m \u001b[0;34m=\u001b[0m \u001b[0mself\u001b[0m\u001b[0;34m.\u001b[0m\u001b[0msend\u001b[0m\u001b[0;34m(\u001b[0m\u001b[0mprep\u001b[0m\u001b[0;34m,\u001b[0m \u001b[0;34m**\u001b[0m\u001b[0msend_kwargs\u001b[0m\u001b[0;34m)\u001b[0m\u001b[0;34m\u001b[0m\u001b[0;34m\u001b[0m\u001b[0m\n\u001b[0m\u001b[1;32m    531\u001b[0m \u001b[0;34m\u001b[0m\u001b[0m\n\u001b[1;32m    532\u001b[0m         \u001b[0;32mreturn\u001b[0m \u001b[0mresp\u001b[0m\u001b[0;34m\u001b[0m\u001b[0;34m\u001b[0m\u001b[0m\n",
            "\u001b[0;32m/usr/local/lib/python3.7/dist-packages/requests/sessions.py\u001b[0m in \u001b[0;36msend\u001b[0;34m(self, request, **kwargs)\u001b[0m\n\u001b[1;32m    641\u001b[0m \u001b[0;34m\u001b[0m\u001b[0m\n\u001b[1;32m    642\u001b[0m         \u001b[0;31m# Send the request\u001b[0m\u001b[0;34m\u001b[0m\u001b[0;34m\u001b[0m\u001b[0;34m\u001b[0m\u001b[0m\n\u001b[0;32m--> 643\u001b[0;31m         \u001b[0mr\u001b[0m \u001b[0;34m=\u001b[0m \u001b[0madapter\u001b[0m\u001b[0;34m.\u001b[0m\u001b[0msend\u001b[0m\u001b[0;34m(\u001b[0m\u001b[0mrequest\u001b[0m\u001b[0;34m,\u001b[0m \u001b[0;34m**\u001b[0m\u001b[0mkwargs\u001b[0m\u001b[0;34m)\u001b[0m\u001b[0;34m\u001b[0m\u001b[0;34m\u001b[0m\u001b[0m\n\u001b[0m\u001b[1;32m    644\u001b[0m \u001b[0;34m\u001b[0m\u001b[0m\n\u001b[1;32m    645\u001b[0m         \u001b[0;31m# Total elapsed time of the request (approximately)\u001b[0m\u001b[0;34m\u001b[0m\u001b[0;34m\u001b[0m\u001b[0;34m\u001b[0m\u001b[0m\n",
            "\u001b[0;32m/usr/local/lib/python3.7/dist-packages/requests/adapters.py\u001b[0m in \u001b[0;36msend\u001b[0;34m(self, request, stream, timeout, verify, cert, proxies)\u001b[0m\n\u001b[1;32m    447\u001b[0m                     \u001b[0mdecode_content\u001b[0m\u001b[0;34m=\u001b[0m\u001b[0;32mFalse\u001b[0m\u001b[0;34m,\u001b[0m\u001b[0;34m\u001b[0m\u001b[0;34m\u001b[0m\u001b[0m\n\u001b[1;32m    448\u001b[0m                     \u001b[0mretries\u001b[0m\u001b[0;34m=\u001b[0m\u001b[0mself\u001b[0m\u001b[0;34m.\u001b[0m\u001b[0mmax_retries\u001b[0m\u001b[0;34m,\u001b[0m\u001b[0;34m\u001b[0m\u001b[0;34m\u001b[0m\u001b[0m\n\u001b[0;32m--> 449\u001b[0;31m                     \u001b[0mtimeout\u001b[0m\u001b[0;34m=\u001b[0m\u001b[0mtimeout\u001b[0m\u001b[0;34m\u001b[0m\u001b[0;34m\u001b[0m\u001b[0m\n\u001b[0m\u001b[1;32m    450\u001b[0m                 )\n\u001b[1;32m    451\u001b[0m \u001b[0;34m\u001b[0m\u001b[0m\n",
            "\u001b[0;32m/usr/local/lib/python3.7/dist-packages/urllib3/connectionpool.py\u001b[0m in \u001b[0;36murlopen\u001b[0;34m(self, method, url, body, headers, retries, redirect, assert_same_host, timeout, pool_timeout, release_conn, chunked, body_pos, **response_kw)\u001b[0m\n\u001b[1;32m    598\u001b[0m                                                   \u001b[0mtimeout\u001b[0m\u001b[0;34m=\u001b[0m\u001b[0mtimeout_obj\u001b[0m\u001b[0;34m,\u001b[0m\u001b[0;34m\u001b[0m\u001b[0;34m\u001b[0m\u001b[0m\n\u001b[1;32m    599\u001b[0m                                                   \u001b[0mbody\u001b[0m\u001b[0;34m=\u001b[0m\u001b[0mbody\u001b[0m\u001b[0;34m,\u001b[0m \u001b[0mheaders\u001b[0m\u001b[0;34m=\u001b[0m\u001b[0mheaders\u001b[0m\u001b[0;34m,\u001b[0m\u001b[0;34m\u001b[0m\u001b[0;34m\u001b[0m\u001b[0m\n\u001b[0;32m--> 600\u001b[0;31m                                                   chunked=chunked)\n\u001b[0m\u001b[1;32m    601\u001b[0m \u001b[0;34m\u001b[0m\u001b[0m\n\u001b[1;32m    602\u001b[0m             \u001b[0;31m# If we're going to release the connection in ``finally:``, then\u001b[0m\u001b[0;34m\u001b[0m\u001b[0;34m\u001b[0m\u001b[0;34m\u001b[0m\u001b[0m\n",
            "\u001b[0;32m/usr/local/lib/python3.7/dist-packages/urllib3/connectionpool.py\u001b[0m in \u001b[0;36m_make_request\u001b[0;34m(self, conn, method, url, timeout, chunked, **httplib_request_kw)\u001b[0m\n\u001b[1;32m    378\u001b[0m             \u001b[0;32mexcept\u001b[0m \u001b[0mTypeError\u001b[0m\u001b[0;34m:\u001b[0m  \u001b[0;31m# Python 3\u001b[0m\u001b[0;34m\u001b[0m\u001b[0;34m\u001b[0m\u001b[0m\n\u001b[1;32m    379\u001b[0m                 \u001b[0;32mtry\u001b[0m\u001b[0;34m:\u001b[0m\u001b[0;34m\u001b[0m\u001b[0;34m\u001b[0m\u001b[0m\n\u001b[0;32m--> 380\u001b[0;31m                     \u001b[0mhttplib_response\u001b[0m \u001b[0;34m=\u001b[0m \u001b[0mconn\u001b[0m\u001b[0;34m.\u001b[0m\u001b[0mgetresponse\u001b[0m\u001b[0;34m(\u001b[0m\u001b[0;34m)\u001b[0m\u001b[0;34m\u001b[0m\u001b[0;34m\u001b[0m\u001b[0m\n\u001b[0m\u001b[1;32m    381\u001b[0m                 \u001b[0;32mexcept\u001b[0m \u001b[0mException\u001b[0m \u001b[0;32mas\u001b[0m \u001b[0me\u001b[0m\u001b[0;34m:\u001b[0m\u001b[0;34m\u001b[0m\u001b[0;34m\u001b[0m\u001b[0m\n\u001b[1;32m    382\u001b[0m                     \u001b[0;31m# Remove the TypeError from the exception chain in Python 3;\u001b[0m\u001b[0;34m\u001b[0m\u001b[0;34m\u001b[0m\u001b[0;34m\u001b[0m\u001b[0m\n",
            "\u001b[0;32m/usr/lib/python3.7/http/client.py\u001b[0m in \u001b[0;36mgetresponse\u001b[0;34m(self)\u001b[0m\n\u001b[1;32m   1371\u001b[0m         \u001b[0;32mtry\u001b[0m\u001b[0;34m:\u001b[0m\u001b[0;34m\u001b[0m\u001b[0;34m\u001b[0m\u001b[0m\n\u001b[1;32m   1372\u001b[0m             \u001b[0;32mtry\u001b[0m\u001b[0;34m:\u001b[0m\u001b[0;34m\u001b[0m\u001b[0;34m\u001b[0m\u001b[0m\n\u001b[0;32m-> 1373\u001b[0;31m                 \u001b[0mresponse\u001b[0m\u001b[0;34m.\u001b[0m\u001b[0mbegin\u001b[0m\u001b[0;34m(\u001b[0m\u001b[0;34m)\u001b[0m\u001b[0;34m\u001b[0m\u001b[0;34m\u001b[0m\u001b[0m\n\u001b[0m\u001b[1;32m   1374\u001b[0m             \u001b[0;32mexcept\u001b[0m \u001b[0mConnectionError\u001b[0m\u001b[0;34m:\u001b[0m\u001b[0;34m\u001b[0m\u001b[0;34m\u001b[0m\u001b[0m\n\u001b[1;32m   1375\u001b[0m                 \u001b[0mself\u001b[0m\u001b[0;34m.\u001b[0m\u001b[0mclose\u001b[0m\u001b[0;34m(\u001b[0m\u001b[0;34m)\u001b[0m\u001b[0;34m\u001b[0m\u001b[0;34m\u001b[0m\u001b[0m\n",
            "\u001b[0;32m/usr/lib/python3.7/http/client.py\u001b[0m in \u001b[0;36mbegin\u001b[0;34m(self)\u001b[0m\n\u001b[1;32m    317\u001b[0m         \u001b[0;31m# read until we get a non-100 response\u001b[0m\u001b[0;34m\u001b[0m\u001b[0;34m\u001b[0m\u001b[0;34m\u001b[0m\u001b[0m\n\u001b[1;32m    318\u001b[0m         \u001b[0;32mwhile\u001b[0m \u001b[0;32mTrue\u001b[0m\u001b[0;34m:\u001b[0m\u001b[0;34m\u001b[0m\u001b[0;34m\u001b[0m\u001b[0m\n\u001b[0;32m--> 319\u001b[0;31m             \u001b[0mversion\u001b[0m\u001b[0;34m,\u001b[0m \u001b[0mstatus\u001b[0m\u001b[0;34m,\u001b[0m \u001b[0mreason\u001b[0m \u001b[0;34m=\u001b[0m \u001b[0mself\u001b[0m\u001b[0;34m.\u001b[0m\u001b[0m_read_status\u001b[0m\u001b[0;34m(\u001b[0m\u001b[0;34m)\u001b[0m\u001b[0;34m\u001b[0m\u001b[0;34m\u001b[0m\u001b[0m\n\u001b[0m\u001b[1;32m    320\u001b[0m             \u001b[0;32mif\u001b[0m \u001b[0mstatus\u001b[0m \u001b[0;34m!=\u001b[0m \u001b[0mCONTINUE\u001b[0m\u001b[0;34m:\u001b[0m\u001b[0;34m\u001b[0m\u001b[0;34m\u001b[0m\u001b[0m\n\u001b[1;32m    321\u001b[0m                 \u001b[0;32mbreak\u001b[0m\u001b[0;34m\u001b[0m\u001b[0;34m\u001b[0m\u001b[0m\n",
            "\u001b[0;32m/usr/lib/python3.7/http/client.py\u001b[0m in \u001b[0;36m_read_status\u001b[0;34m(self)\u001b[0m\n\u001b[1;32m    278\u001b[0m \u001b[0;34m\u001b[0m\u001b[0m\n\u001b[1;32m    279\u001b[0m     \u001b[0;32mdef\u001b[0m \u001b[0m_read_status\u001b[0m\u001b[0;34m(\u001b[0m\u001b[0mself\u001b[0m\u001b[0;34m)\u001b[0m\u001b[0;34m:\u001b[0m\u001b[0;34m\u001b[0m\u001b[0;34m\u001b[0m\u001b[0m\n\u001b[0;32m--> 280\u001b[0;31m         \u001b[0mline\u001b[0m \u001b[0;34m=\u001b[0m \u001b[0mstr\u001b[0m\u001b[0;34m(\u001b[0m\u001b[0mself\u001b[0m\u001b[0;34m.\u001b[0m\u001b[0mfp\u001b[0m\u001b[0;34m.\u001b[0m\u001b[0mreadline\u001b[0m\u001b[0;34m(\u001b[0m\u001b[0m_MAXLINE\u001b[0m \u001b[0;34m+\u001b[0m \u001b[0;36m1\u001b[0m\u001b[0;34m)\u001b[0m\u001b[0;34m,\u001b[0m \u001b[0;34m\"iso-8859-1\"\u001b[0m\u001b[0;34m)\u001b[0m\u001b[0;34m\u001b[0m\u001b[0;34m\u001b[0m\u001b[0m\n\u001b[0m\u001b[1;32m    281\u001b[0m         \u001b[0;32mif\u001b[0m \u001b[0mlen\u001b[0m\u001b[0;34m(\u001b[0m\u001b[0mline\u001b[0m\u001b[0;34m)\u001b[0m \u001b[0;34m>\u001b[0m \u001b[0m_MAXLINE\u001b[0m\u001b[0;34m:\u001b[0m\u001b[0;34m\u001b[0m\u001b[0;34m\u001b[0m\u001b[0m\n\u001b[1;32m    282\u001b[0m             \u001b[0;32mraise\u001b[0m \u001b[0mLineTooLong\u001b[0m\u001b[0;34m(\u001b[0m\u001b[0;34m\"status line\"\u001b[0m\u001b[0;34m)\u001b[0m\u001b[0;34m\u001b[0m\u001b[0;34m\u001b[0m\u001b[0m\n",
            "\u001b[0;32m/usr/lib/python3.7/socket.py\u001b[0m in \u001b[0;36mreadinto\u001b[0;34m(self, b)\u001b[0m\n\u001b[1;32m    587\u001b[0m         \u001b[0;32mwhile\u001b[0m \u001b[0;32mTrue\u001b[0m\u001b[0;34m:\u001b[0m\u001b[0;34m\u001b[0m\u001b[0;34m\u001b[0m\u001b[0m\n\u001b[1;32m    588\u001b[0m             \u001b[0;32mtry\u001b[0m\u001b[0;34m:\u001b[0m\u001b[0;34m\u001b[0m\u001b[0;34m\u001b[0m\u001b[0m\n\u001b[0;32m--> 589\u001b[0;31m                 \u001b[0;32mreturn\u001b[0m \u001b[0mself\u001b[0m\u001b[0;34m.\u001b[0m\u001b[0m_sock\u001b[0m\u001b[0;34m.\u001b[0m\u001b[0mrecv_into\u001b[0m\u001b[0;34m(\u001b[0m\u001b[0mb\u001b[0m\u001b[0;34m)\u001b[0m\u001b[0;34m\u001b[0m\u001b[0;34m\u001b[0m\u001b[0m\n\u001b[0m\u001b[1;32m    590\u001b[0m             \u001b[0;32mexcept\u001b[0m \u001b[0mtimeout\u001b[0m\u001b[0;34m:\u001b[0m\u001b[0;34m\u001b[0m\u001b[0;34m\u001b[0m\u001b[0m\n\u001b[1;32m    591\u001b[0m                 \u001b[0mself\u001b[0m\u001b[0;34m.\u001b[0m\u001b[0m_timeout_occurred\u001b[0m \u001b[0;34m=\u001b[0m \u001b[0;32mTrue\u001b[0m\u001b[0;34m\u001b[0m\u001b[0;34m\u001b[0m\u001b[0m\n",
            "\u001b[0;32m/usr/lib/python3.7/ssl.py\u001b[0m in \u001b[0;36mrecv_into\u001b[0;34m(self, buffer, nbytes, flags)\u001b[0m\n\u001b[1;32m   1069\u001b[0m                   \u001b[0;34m\"non-zero flags not allowed in calls to recv_into() on %s\"\u001b[0m \u001b[0;34m%\u001b[0m\u001b[0;34m\u001b[0m\u001b[0;34m\u001b[0m\u001b[0m\n\u001b[1;32m   1070\u001b[0m                   self.__class__)\n\u001b[0;32m-> 1071\u001b[0;31m             \u001b[0;32mreturn\u001b[0m \u001b[0mself\u001b[0m\u001b[0;34m.\u001b[0m\u001b[0mread\u001b[0m\u001b[0;34m(\u001b[0m\u001b[0mnbytes\u001b[0m\u001b[0;34m,\u001b[0m \u001b[0mbuffer\u001b[0m\u001b[0;34m)\u001b[0m\u001b[0;34m\u001b[0m\u001b[0;34m\u001b[0m\u001b[0m\n\u001b[0m\u001b[1;32m   1072\u001b[0m         \u001b[0;32melse\u001b[0m\u001b[0;34m:\u001b[0m\u001b[0;34m\u001b[0m\u001b[0;34m\u001b[0m\u001b[0m\n\u001b[1;32m   1073\u001b[0m             \u001b[0;32mreturn\u001b[0m \u001b[0msuper\u001b[0m\u001b[0;34m(\u001b[0m\u001b[0;34m)\u001b[0m\u001b[0;34m.\u001b[0m\u001b[0mrecv_into\u001b[0m\u001b[0;34m(\u001b[0m\u001b[0mbuffer\u001b[0m\u001b[0;34m,\u001b[0m \u001b[0mnbytes\u001b[0m\u001b[0;34m,\u001b[0m \u001b[0mflags\u001b[0m\u001b[0;34m)\u001b[0m\u001b[0;34m\u001b[0m\u001b[0;34m\u001b[0m\u001b[0m\n",
            "\u001b[0;32m/usr/lib/python3.7/ssl.py\u001b[0m in \u001b[0;36mread\u001b[0;34m(self, len, buffer)\u001b[0m\n\u001b[1;32m    927\u001b[0m         \u001b[0;32mtry\u001b[0m\u001b[0;34m:\u001b[0m\u001b[0;34m\u001b[0m\u001b[0;34m\u001b[0m\u001b[0m\n\u001b[1;32m    928\u001b[0m             \u001b[0;32mif\u001b[0m \u001b[0mbuffer\u001b[0m \u001b[0;32mis\u001b[0m \u001b[0;32mnot\u001b[0m \u001b[0;32mNone\u001b[0m\u001b[0;34m:\u001b[0m\u001b[0;34m\u001b[0m\u001b[0;34m\u001b[0m\u001b[0m\n\u001b[0;32m--> 929\u001b[0;31m                 \u001b[0;32mreturn\u001b[0m \u001b[0mself\u001b[0m\u001b[0;34m.\u001b[0m\u001b[0m_sslobj\u001b[0m\u001b[0;34m.\u001b[0m\u001b[0mread\u001b[0m\u001b[0;34m(\u001b[0m\u001b[0mlen\u001b[0m\u001b[0;34m,\u001b[0m \u001b[0mbuffer\u001b[0m\u001b[0;34m)\u001b[0m\u001b[0;34m\u001b[0m\u001b[0;34m\u001b[0m\u001b[0m\n\u001b[0m\u001b[1;32m    930\u001b[0m             \u001b[0;32melse\u001b[0m\u001b[0;34m:\u001b[0m\u001b[0;34m\u001b[0m\u001b[0;34m\u001b[0m\u001b[0m\n\u001b[1;32m    931\u001b[0m                 \u001b[0;32mreturn\u001b[0m \u001b[0mself\u001b[0m\u001b[0;34m.\u001b[0m\u001b[0m_sslobj\u001b[0m\u001b[0;34m.\u001b[0m\u001b[0mread\u001b[0m\u001b[0;34m(\u001b[0m\u001b[0mlen\u001b[0m\u001b[0;34m)\u001b[0m\u001b[0;34m\u001b[0m\u001b[0;34m\u001b[0m\u001b[0m\n",
            "\u001b[0;31mKeyboardInterrupt\u001b[0m: "
          ]
        }
      ]
    }
  ]
}